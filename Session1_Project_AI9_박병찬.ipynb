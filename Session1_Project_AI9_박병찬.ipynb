{
  "nbformat": 4,
  "nbformat_minor": 0,
  "metadata": {
    "colab": {
      "name": "Session1_Project_AI9_박병찬",
      "provenance": [],
      "collapsed_sections": []
    },
    "kernelspec": {
      "name": "python3",
      "display_name": "Python 3"
    },
    "language_info": {
      "name": "python"
    }
  },
  "cells": [
    {
      "cell_type": "markdown",
      "source": [
        "## DATA SCIENCE / SECTION 1 / Project\n"
      ],
      "metadata": {
        "id": "cVtHNbo9ZwMv"
      }
    },
    {
      "cell_type": "markdown",
      "source": [
        "## 1. Data Cleaning\n",
        "\n",
        "- 지역에 따라서 선호하는 게임 장르가 다를까\n",
        "- 연도별 게임의 트렌드가 있을까\n",
        "- 출고량이 높은 게임에 대한 분석\n",
        "\n",
        "와 같은 분석하고자 하는 주제에 맞추어 Data의 column별 결측치, 이상치를 제거합니다."
      ],
      "metadata": {
        "id": "0wJyAZkfX-pn"
      }
    },
    {
      "cell_type": "code",
      "source": [
        "#@title\n",
        "from google.colab import drive\n",
        "drive.mount('/content/drive')"
      ],
      "metadata": {
        "colab": {
          "base_uri": "https://localhost:8080/"
        },
        "id": "RrXztat2ZgsF",
        "outputId": "6c0c0946-e281-4715-af08-41f4b19c0c14",
        "cellView": "form"
      },
      "execution_count": null,
      "outputs": [
        {
          "output_type": "stream",
          "name": "stdout",
          "text": [
            "Drive already mounted at /content/drive; to attempt to forcibly remount, call drive.mount(\"/content/drive\", force_remount=True).\n"
          ]
        }
      ]
    },
    {
      "cell_type": "code",
      "source": [
        "#@title\n",
        "#!sudo apt-get install -y fonts-nanum\n",
        "#!sudo fc-cache -fv\n",
        "#!rm ~/.cache/matplotlib -rf\n",
        "\n",
        "import pandas as pd\n",
        "import numpy as np\n",
        "import matplotlib.pyplot as plt\n",
        "import matplotlib.ticker as ticker\n",
        "import seaborn as sns\n",
        "plt.rc('font', family='NanumBarunGothic')\n",
        "import scipy.stats as stats\n",
        "import math\n",
        "from sklearn.preprocessing import StandardScaler, Normalizer\n",
        "from sklearn.decomposition import PCA\n",
        "from sklearn.cluster import KMeans \n",
        "from scipy.cluster.hierarchy import dendrogram, linkage"
      ],
      "metadata": {
        "id": "v2OOAxYjdghG",
        "cellView": "form"
      },
      "execution_count": null,
      "outputs": []
    },
    {
      "cell_type": "code",
      "source": [
        "#@title\n",
        "df_raw = pd.read_csv('/content/drive/MyDrive/bootcamp_project/vgames2.csv')\n",
        "df_raw = df_raw.drop('Unnamed: 0', axis=1)"
      ],
      "metadata": {
        "id": "8_aRe4lwdgju",
        "cellView": "form"
      },
      "execution_count": null,
      "outputs": []
    },
    {
      "cell_type": "code",
      "source": [
        "#@title\n",
        "df_raw.head()"
      ],
      "metadata": {
        "id": "WKjR-79XdgmT",
        "colab": {
          "base_uri": "https://localhost:8080/",
          "height": 206
        },
        "outputId": "f578f557-81ff-4518-9c57-ae66b615a359",
        "cellView": "form"
      },
      "execution_count": null,
      "outputs": [
        {
          "output_type": "execute_result",
          "data": {
            "text/html": [
              "<div>\n",
              "<style scoped>\n",
              "    .dataframe tbody tr th:only-of-type {\n",
              "        vertical-align: middle;\n",
              "    }\n",
              "\n",
              "    .dataframe tbody tr th {\n",
              "        vertical-align: top;\n",
              "    }\n",
              "\n",
              "    .dataframe thead th {\n",
              "        text-align: right;\n",
              "    }\n",
              "</style>\n",
              "<table border=\"1\" class=\"dataframe\">\n",
              "  <thead>\n",
              "    <tr style=\"text-align: right;\">\n",
              "      <th></th>\n",
              "      <th>Name</th>\n",
              "      <th>Platform</th>\n",
              "      <th>Year</th>\n",
              "      <th>Genre</th>\n",
              "      <th>Publisher</th>\n",
              "      <th>NA_Sales</th>\n",
              "      <th>EU_Sales</th>\n",
              "      <th>JP_Sales</th>\n",
              "      <th>Other_Sales</th>\n",
              "    </tr>\n",
              "  </thead>\n",
              "  <tbody>\n",
              "    <tr>\n",
              "      <th>0</th>\n",
              "      <td>Candace Kane's Candy Factory</td>\n",
              "      <td>DS</td>\n",
              "      <td>2008.0</td>\n",
              "      <td>Action</td>\n",
              "      <td>Destineer</td>\n",
              "      <td>0.04</td>\n",
              "      <td>0</td>\n",
              "      <td>0</td>\n",
              "      <td>0</td>\n",
              "    </tr>\n",
              "    <tr>\n",
              "      <th>1</th>\n",
              "      <td>The Munchables</td>\n",
              "      <td>Wii</td>\n",
              "      <td>2009.0</td>\n",
              "      <td>Action</td>\n",
              "      <td>Namco Bandai Games</td>\n",
              "      <td>0.17</td>\n",
              "      <td>0</td>\n",
              "      <td>0</td>\n",
              "      <td>0.01</td>\n",
              "    </tr>\n",
              "    <tr>\n",
              "      <th>2</th>\n",
              "      <td>Otome wa Oanesama Boku ni Koi Shiteru Portable</td>\n",
              "      <td>PSP</td>\n",
              "      <td>2010.0</td>\n",
              "      <td>Adventure</td>\n",
              "      <td>Alchemist</td>\n",
              "      <td>0</td>\n",
              "      <td>0</td>\n",
              "      <td>0.02</td>\n",
              "      <td>0</td>\n",
              "    </tr>\n",
              "    <tr>\n",
              "      <th>3</th>\n",
              "      <td>Deal or No Deal: Special Edition</td>\n",
              "      <td>DS</td>\n",
              "      <td>2010.0</td>\n",
              "      <td>Misc</td>\n",
              "      <td>Zoo Games</td>\n",
              "      <td>0.04</td>\n",
              "      <td>0</td>\n",
              "      <td>0</td>\n",
              "      <td>0</td>\n",
              "    </tr>\n",
              "    <tr>\n",
              "      <th>4</th>\n",
              "      <td>Ben 10 Ultimate Alien: Cosmic Destruction</td>\n",
              "      <td>PS3</td>\n",
              "      <td>2010.0</td>\n",
              "      <td>Platform</td>\n",
              "      <td>D3Publisher</td>\n",
              "      <td>0.12</td>\n",
              "      <td>0.09</td>\n",
              "      <td>0</td>\n",
              "      <td>0.04</td>\n",
              "    </tr>\n",
              "  </tbody>\n",
              "</table>\n",
              "</div>"
            ],
            "text/plain": [
              "                                             Name Platform  ...  JP_Sales Other_Sales\n",
              "0                    Candace Kane's Candy Factory       DS  ...         0           0\n",
              "1                                  The Munchables      Wii  ...         0        0.01\n",
              "2  Otome wa Oanesama Boku ni Koi Shiteru Portable      PSP  ...      0.02           0\n",
              "3                Deal or No Deal: Special Edition       DS  ...         0           0\n",
              "4       Ben 10 Ultimate Alien: Cosmic Destruction      PS3  ...         0        0.04\n",
              "\n",
              "[5 rows x 9 columns]"
            ]
          },
          "metadata": {},
          "execution_count": 4
        }
      ]
    },
    {
      "cell_type": "code",
      "source": [
        "#@title\n",
        "df_raw.info()"
      ],
      "metadata": {
        "id": "DYkF7V1pdgpG",
        "colab": {
          "base_uri": "https://localhost:8080/"
        },
        "outputId": "980f948b-83fb-447e-893c-203da020c495",
        "cellView": "form"
      },
      "execution_count": null,
      "outputs": [
        {
          "output_type": "stream",
          "name": "stdout",
          "text": [
            "<class 'pandas.core.frame.DataFrame'>\n",
            "RangeIndex: 16598 entries, 0 to 16597\n",
            "Data columns (total 9 columns):\n",
            " #   Column       Non-Null Count  Dtype  \n",
            "---  ------       --------------  -----  \n",
            " 0   Name         16598 non-null  object \n",
            " 1   Platform     16598 non-null  object \n",
            " 2   Year         16327 non-null  float64\n",
            " 3   Genre        16548 non-null  object \n",
            " 4   Publisher    16540 non-null  object \n",
            " 5   NA_Sales     16598 non-null  object \n",
            " 6   EU_Sales     16598 non-null  object \n",
            " 7   JP_Sales     16598 non-null  object \n",
            " 8   Other_Sales  16598 non-null  object \n",
            "dtypes: float64(1), object(8)\n",
            "memory usage: 1.1+ MB\n"
          ]
        }
      ]
    },
    {
      "cell_type": "markdown",
      "source": [
        "### 1_1 Sales_data Handling\n",
        "\n",
        "- 게임의 판매량 기본단위 = Million(10^6)\n",
        " - 'M'이 포함되어 있는 데이터 정제('M'제거)\n",
        " - 'K'가 포함되어 있는 데이터 정제('K'제거)\n"
      ],
      "metadata": {
        "id": "fZWI0m9IdS3L"
      }
    },
    {
      "cell_type": "code",
      "source": [
        "# sale데이터 슬라이싱\n",
        "df = df_raw.iloc[:,:-4]\n",
        "df_Sale = df_raw.iloc[:,-4:]\n",
        "print(df_Sale.iloc[10])\n",
        "df_Sale.head()"
      ],
      "metadata": {
        "colab": {
          "base_uri": "https://localhost:8080/",
          "height": 298
        },
        "id": "FKzkNAfSgs8I",
        "outputId": "5ba19520-8d71-470a-dc52-591d3624f524"
      },
      "execution_count": null,
      "outputs": [
        {
          "output_type": "stream",
          "name": "stdout",
          "text": [
            "NA_Sales        480K\n",
            "EU_Sales       0.33M\n",
            "JP_Sales          0K\n",
            "Other_Sales     0.06\n",
            "Name: 10, dtype: object\n"
          ]
        },
        {
          "output_type": "execute_result",
          "data": {
            "text/html": [
              "<div>\n",
              "<style scoped>\n",
              "    .dataframe tbody tr th:only-of-type {\n",
              "        vertical-align: middle;\n",
              "    }\n",
              "\n",
              "    .dataframe tbody tr th {\n",
              "        vertical-align: top;\n",
              "    }\n",
              "\n",
              "    .dataframe thead th {\n",
              "        text-align: right;\n",
              "    }\n",
              "</style>\n",
              "<table border=\"1\" class=\"dataframe\">\n",
              "  <thead>\n",
              "    <tr style=\"text-align: right;\">\n",
              "      <th></th>\n",
              "      <th>NA_Sales</th>\n",
              "      <th>EU_Sales</th>\n",
              "      <th>JP_Sales</th>\n",
              "      <th>Other_Sales</th>\n",
              "    </tr>\n",
              "  </thead>\n",
              "  <tbody>\n",
              "    <tr>\n",
              "      <th>0</th>\n",
              "      <td>0.04</td>\n",
              "      <td>0</td>\n",
              "      <td>0</td>\n",
              "      <td>0</td>\n",
              "    </tr>\n",
              "    <tr>\n",
              "      <th>1</th>\n",
              "      <td>0.17</td>\n",
              "      <td>0</td>\n",
              "      <td>0</td>\n",
              "      <td>0.01</td>\n",
              "    </tr>\n",
              "    <tr>\n",
              "      <th>2</th>\n",
              "      <td>0</td>\n",
              "      <td>0</td>\n",
              "      <td>0.02</td>\n",
              "      <td>0</td>\n",
              "    </tr>\n",
              "    <tr>\n",
              "      <th>3</th>\n",
              "      <td>0.04</td>\n",
              "      <td>0</td>\n",
              "      <td>0</td>\n",
              "      <td>0</td>\n",
              "    </tr>\n",
              "    <tr>\n",
              "      <th>4</th>\n",
              "      <td>0.12</td>\n",
              "      <td>0.09</td>\n",
              "      <td>0</td>\n",
              "      <td>0.04</td>\n",
              "    </tr>\n",
              "  </tbody>\n",
              "</table>\n",
              "</div>"
            ],
            "text/plain": [
              "  NA_Sales EU_Sales JP_Sales Other_Sales\n",
              "0     0.04        0        0           0\n",
              "1     0.17        0        0        0.01\n",
              "2        0        0     0.02           0\n",
              "3     0.04        0        0           0\n",
              "4     0.12     0.09        0        0.04"
            ]
          },
          "metadata": {},
          "execution_count": 6
        }
      ]
    },
    {
      "cell_type": "code",
      "source": [
        "# 일반적으로 게임 판매량은 million단위이기 때문에,'K'단위의 경우 10^-3을 해주는게 맞으나,\n",
        "# 10K는 100억판매량이기에 불가능하며, 0.01K의 경우 천만판매량이라는 수량은 가능하기 때문에 0K<x<1K값이 있는지 확인\n",
        "\n",
        "list1 = [val for col in df_Sale for val in df_Sale[col]]\n",
        "list1 = filter(lambda val: isinstance(val, str) and val[-1].lower() == 'k', list1)\n",
        "list1 = map(lambda val: float(val[:-1]), list1)\n",
        "list1 = list(filter(lambda val: 0<val<1, list1))\n",
        "list1 # 없음"
      ],
      "metadata": {
        "colab": {
          "base_uri": "https://localhost:8080/"
        },
        "id": "dyPbEyBh2p-I",
        "outputId": "36d7b4f6-11f3-436d-bb33-fb7e636fb504"
      },
      "execution_count": null,
      "outputs": [
        {
          "output_type": "execute_result",
          "data": {
            "text/plain": [
              "[]"
            ]
          },
          "metadata": {},
          "execution_count": 7
        }
      ]
    },
    {
      "cell_type": "code",
      "source": [
        "# M이 들어간값은 M을 제외하고 float으로 바꾸며,\n",
        "# K가 들어간값은 K를 제외하고 1000으로 나눠 단위를 통일해주는 함수\n",
        "def del_M_K(val):\n",
        "  if type(val)!=str:\n",
        "    return val\n",
        "  elif val[-1]=='M':\n",
        "    return float(val[:-1])\n",
        "  elif val[-1]=='K':\n",
        "    return float(val[:-1])/1000\n",
        "  else:\n",
        "    return float(val)"
      ],
      "metadata": {
        "id": "cARsmRTD1bj5"
      },
      "execution_count": null,
      "outputs": []
    },
    {
      "cell_type": "code",
      "source": [
        "for col in df_Sale:\n",
        "  df_Sale[col] = df_Sale[col].apply(del_M_K)"
      ],
      "metadata": {
        "id": "DL86KlRZ1t0u"
      },
      "execution_count": null,
      "outputs": []
    },
    {
      "cell_type": "code",
      "source": [
        "print(df_Sale.iloc[10])\n",
        "df_Sale.dtypes"
      ],
      "metadata": {
        "colab": {
          "base_uri": "https://localhost:8080/"
        },
        "id": "3_vY5FBR1w54",
        "outputId": "81870c50-3d5f-4ed3-f07c-179b9a3df540"
      },
      "execution_count": null,
      "outputs": [
        {
          "output_type": "stream",
          "name": "stdout",
          "text": [
            "NA_Sales       0.48\n",
            "EU_Sales       0.33\n",
            "JP_Sales       0.00\n",
            "Other_Sales    0.06\n",
            "Name: 10, dtype: float64\n"
          ]
        },
        {
          "output_type": "execute_result",
          "data": {
            "text/plain": [
              "NA_Sales       float64\n",
              "EU_Sales       float64\n",
              "JP_Sales       float64\n",
              "Other_Sales    float64\n",
              "dtype: object"
            ]
          },
          "metadata": {},
          "execution_count": 10
        }
      ]
    },
    {
      "cell_type": "code",
      "source": [
        "# Sales 전체합산 column 추가\n",
        "df_Sale['Tot_Sales'] = (df_Sale.NA_Sales)+(df_Sale.EU_Sales)+(df_Sale.JP_Sales)+(df_Sale.Other_Sales)"
      ],
      "metadata": {
        "id": "6Qq7b8b3Lopv"
      },
      "execution_count": null,
      "outputs": []
    },
    {
      "cell_type": "code",
      "source": [
        "df_Sale"
      ],
      "metadata": {
        "colab": {
          "base_uri": "https://localhost:8080/",
          "height": 423
        },
        "id": "16vbJ1biYqs6",
        "outputId": "b0355fc7-4276-455a-e250-7d4c5a35f8d1"
      },
      "execution_count": null,
      "outputs": [
        {
          "output_type": "execute_result",
          "data": {
            "text/html": [
              "<div>\n",
              "<style scoped>\n",
              "    .dataframe tbody tr th:only-of-type {\n",
              "        vertical-align: middle;\n",
              "    }\n",
              "\n",
              "    .dataframe tbody tr th {\n",
              "        vertical-align: top;\n",
              "    }\n",
              "\n",
              "    .dataframe thead th {\n",
              "        text-align: right;\n",
              "    }\n",
              "</style>\n",
              "<table border=\"1\" class=\"dataframe\">\n",
              "  <thead>\n",
              "    <tr style=\"text-align: right;\">\n",
              "      <th></th>\n",
              "      <th>NA_Sales</th>\n",
              "      <th>EU_Sales</th>\n",
              "      <th>JP_Sales</th>\n",
              "      <th>Other_Sales</th>\n",
              "      <th>Tot_Sales</th>\n",
              "    </tr>\n",
              "  </thead>\n",
              "  <tbody>\n",
              "    <tr>\n",
              "      <th>0</th>\n",
              "      <td>0.04</td>\n",
              "      <td>0.00</td>\n",
              "      <td>0.00</td>\n",
              "      <td>0.00</td>\n",
              "      <td>0.04</td>\n",
              "    </tr>\n",
              "    <tr>\n",
              "      <th>1</th>\n",
              "      <td>0.17</td>\n",
              "      <td>0.00</td>\n",
              "      <td>0.00</td>\n",
              "      <td>0.01</td>\n",
              "      <td>0.18</td>\n",
              "    </tr>\n",
              "    <tr>\n",
              "      <th>2</th>\n",
              "      <td>0.00</td>\n",
              "      <td>0.00</td>\n",
              "      <td>0.02</td>\n",
              "      <td>0.00</td>\n",
              "      <td>0.02</td>\n",
              "    </tr>\n",
              "    <tr>\n",
              "      <th>3</th>\n",
              "      <td>0.04</td>\n",
              "      <td>0.00</td>\n",
              "      <td>0.00</td>\n",
              "      <td>0.00</td>\n",
              "      <td>0.04</td>\n",
              "    </tr>\n",
              "    <tr>\n",
              "      <th>4</th>\n",
              "      <td>0.12</td>\n",
              "      <td>0.09</td>\n",
              "      <td>0.00</td>\n",
              "      <td>0.04</td>\n",
              "      <td>0.25</td>\n",
              "    </tr>\n",
              "    <tr>\n",
              "      <th>...</th>\n",
              "      <td>...</td>\n",
              "      <td>...</td>\n",
              "      <td>...</td>\n",
              "      <td>...</td>\n",
              "      <td>...</td>\n",
              "    </tr>\n",
              "    <tr>\n",
              "      <th>16593</th>\n",
              "      <td>0.15</td>\n",
              "      <td>0.04</td>\n",
              "      <td>0.00</td>\n",
              "      <td>0.01</td>\n",
              "      <td>0.20</td>\n",
              "    </tr>\n",
              "    <tr>\n",
              "      <th>16594</th>\n",
              "      <td>0.01</td>\n",
              "      <td>0.00</td>\n",
              "      <td>0.00</td>\n",
              "      <td>0.00</td>\n",
              "      <td>0.01</td>\n",
              "    </tr>\n",
              "    <tr>\n",
              "      <th>16595</th>\n",
              "      <td>0.44</td>\n",
              "      <td>0.19</td>\n",
              "      <td>0.03</td>\n",
              "      <td>0.13</td>\n",
              "      <td>0.79</td>\n",
              "    </tr>\n",
              "    <tr>\n",
              "      <th>16596</th>\n",
              "      <td>0.05</td>\n",
              "      <td>0.05</td>\n",
              "      <td>0.25</td>\n",
              "      <td>0.03</td>\n",
              "      <td>0.38</td>\n",
              "    </tr>\n",
              "    <tr>\n",
              "      <th>16597</th>\n",
              "      <td>0.00</td>\n",
              "      <td>0.00</td>\n",
              "      <td>0.16</td>\n",
              "      <td>0.01</td>\n",
              "      <td>0.17</td>\n",
              "    </tr>\n",
              "  </tbody>\n",
              "</table>\n",
              "<p>16598 rows × 5 columns</p>\n",
              "</div>"
            ],
            "text/plain": [
              "       NA_Sales  EU_Sales  JP_Sales  Other_Sales  Tot_Sales\n",
              "0          0.04      0.00      0.00         0.00       0.04\n",
              "1          0.17      0.00      0.00         0.01       0.18\n",
              "2          0.00      0.00      0.02         0.00       0.02\n",
              "3          0.04      0.00      0.00         0.00       0.04\n",
              "4          0.12      0.09      0.00         0.04       0.25\n",
              "...         ...       ...       ...          ...        ...\n",
              "16593      0.15      0.04      0.00         0.01       0.20\n",
              "16594      0.01      0.00      0.00         0.00       0.01\n",
              "16595      0.44      0.19      0.03         0.13       0.79\n",
              "16596      0.05      0.05      0.25         0.03       0.38\n",
              "16597      0.00      0.00      0.16         0.01       0.17\n",
              "\n",
              "[16598 rows x 5 columns]"
            ]
          },
          "metadata": {},
          "execution_count": 12
        }
      ]
    },
    {
      "cell_type": "code",
      "source": [
        "#data 합치기\n",
        "df = pd.concat([df, df_Sale], axis=1)\n",
        "df"
      ],
      "metadata": {
        "colab": {
          "base_uri": "https://localhost:8080/",
          "height": 423
        },
        "id": "FqxElUdsg3TK",
        "outputId": "d0c87a22-c64f-4bd0-99ee-158f656cd64a"
      },
      "execution_count": null,
      "outputs": [
        {
          "output_type": "execute_result",
          "data": {
            "text/html": [
              "<div>\n",
              "<style scoped>\n",
              "    .dataframe tbody tr th:only-of-type {\n",
              "        vertical-align: middle;\n",
              "    }\n",
              "\n",
              "    .dataframe tbody tr th {\n",
              "        vertical-align: top;\n",
              "    }\n",
              "\n",
              "    .dataframe thead th {\n",
              "        text-align: right;\n",
              "    }\n",
              "</style>\n",
              "<table border=\"1\" class=\"dataframe\">\n",
              "  <thead>\n",
              "    <tr style=\"text-align: right;\">\n",
              "      <th></th>\n",
              "      <th>Name</th>\n",
              "      <th>Platform</th>\n",
              "      <th>Year</th>\n",
              "      <th>Genre</th>\n",
              "      <th>Publisher</th>\n",
              "      <th>NA_Sales</th>\n",
              "      <th>EU_Sales</th>\n",
              "      <th>JP_Sales</th>\n",
              "      <th>Other_Sales</th>\n",
              "      <th>Tot_Sales</th>\n",
              "    </tr>\n",
              "  </thead>\n",
              "  <tbody>\n",
              "    <tr>\n",
              "      <th>0</th>\n",
              "      <td>Candace Kane's Candy Factory</td>\n",
              "      <td>DS</td>\n",
              "      <td>2008.0</td>\n",
              "      <td>Action</td>\n",
              "      <td>Destineer</td>\n",
              "      <td>0.04</td>\n",
              "      <td>0.00</td>\n",
              "      <td>0.00</td>\n",
              "      <td>0.00</td>\n",
              "      <td>0.04</td>\n",
              "    </tr>\n",
              "    <tr>\n",
              "      <th>1</th>\n",
              "      <td>The Munchables</td>\n",
              "      <td>Wii</td>\n",
              "      <td>2009.0</td>\n",
              "      <td>Action</td>\n",
              "      <td>Namco Bandai Games</td>\n",
              "      <td>0.17</td>\n",
              "      <td>0.00</td>\n",
              "      <td>0.00</td>\n",
              "      <td>0.01</td>\n",
              "      <td>0.18</td>\n",
              "    </tr>\n",
              "    <tr>\n",
              "      <th>2</th>\n",
              "      <td>Otome wa Oanesama Boku ni Koi Shiteru Portable</td>\n",
              "      <td>PSP</td>\n",
              "      <td>2010.0</td>\n",
              "      <td>Adventure</td>\n",
              "      <td>Alchemist</td>\n",
              "      <td>0.00</td>\n",
              "      <td>0.00</td>\n",
              "      <td>0.02</td>\n",
              "      <td>0.00</td>\n",
              "      <td>0.02</td>\n",
              "    </tr>\n",
              "    <tr>\n",
              "      <th>3</th>\n",
              "      <td>Deal or No Deal: Special Edition</td>\n",
              "      <td>DS</td>\n",
              "      <td>2010.0</td>\n",
              "      <td>Misc</td>\n",
              "      <td>Zoo Games</td>\n",
              "      <td>0.04</td>\n",
              "      <td>0.00</td>\n",
              "      <td>0.00</td>\n",
              "      <td>0.00</td>\n",
              "      <td>0.04</td>\n",
              "    </tr>\n",
              "    <tr>\n",
              "      <th>4</th>\n",
              "      <td>Ben 10 Ultimate Alien: Cosmic Destruction</td>\n",
              "      <td>PS3</td>\n",
              "      <td>2010.0</td>\n",
              "      <td>Platform</td>\n",
              "      <td>D3Publisher</td>\n",
              "      <td>0.12</td>\n",
              "      <td>0.09</td>\n",
              "      <td>0.00</td>\n",
              "      <td>0.04</td>\n",
              "      <td>0.25</td>\n",
              "    </tr>\n",
              "    <tr>\n",
              "      <th>...</th>\n",
              "      <td>...</td>\n",
              "      <td>...</td>\n",
              "      <td>...</td>\n",
              "      <td>...</td>\n",
              "      <td>...</td>\n",
              "      <td>...</td>\n",
              "      <td>...</td>\n",
              "      <td>...</td>\n",
              "      <td>...</td>\n",
              "      <td>...</td>\n",
              "    </tr>\n",
              "    <tr>\n",
              "      <th>16593</th>\n",
              "      <td>Ice Age 2: The Meltdown</td>\n",
              "      <td>GC</td>\n",
              "      <td>2006.0</td>\n",
              "      <td>Platform</td>\n",
              "      <td>Vivendi Games</td>\n",
              "      <td>0.15</td>\n",
              "      <td>0.04</td>\n",
              "      <td>0.00</td>\n",
              "      <td>0.01</td>\n",
              "      <td>0.20</td>\n",
              "    </tr>\n",
              "    <tr>\n",
              "      <th>16594</th>\n",
              "      <td>Rainbow Islands: Revolution</td>\n",
              "      <td>PSP</td>\n",
              "      <td>2005.0</td>\n",
              "      <td>Action</td>\n",
              "      <td>Rising Star Games</td>\n",
              "      <td>0.01</td>\n",
              "      <td>0.00</td>\n",
              "      <td>0.00</td>\n",
              "      <td>0.00</td>\n",
              "      <td>0.01</td>\n",
              "    </tr>\n",
              "    <tr>\n",
              "      <th>16595</th>\n",
              "      <td>NBA 2K16</td>\n",
              "      <td>PS3</td>\n",
              "      <td>2015.0</td>\n",
              "      <td>Sports</td>\n",
              "      <td>Take-Two Interactive</td>\n",
              "      <td>0.44</td>\n",
              "      <td>0.19</td>\n",
              "      <td>0.03</td>\n",
              "      <td>0.13</td>\n",
              "      <td>0.79</td>\n",
              "    </tr>\n",
              "    <tr>\n",
              "      <th>16596</th>\n",
              "      <td>Toukiden: The Age of Demons</td>\n",
              "      <td>PSV</td>\n",
              "      <td>2013.0</td>\n",
              "      <td>Action</td>\n",
              "      <td>Tecmo Koei</td>\n",
              "      <td>0.05</td>\n",
              "      <td>0.05</td>\n",
              "      <td>0.25</td>\n",
              "      <td>0.03</td>\n",
              "      <td>0.38</td>\n",
              "    </tr>\n",
              "    <tr>\n",
              "      <th>16597</th>\n",
              "      <td>The King of Fighters '95</td>\n",
              "      <td>PS</td>\n",
              "      <td>1996.0</td>\n",
              "      <td>Fighting</td>\n",
              "      <td>Sony Computer Entertainment</td>\n",
              "      <td>0.00</td>\n",
              "      <td>0.00</td>\n",
              "      <td>0.16</td>\n",
              "      <td>0.01</td>\n",
              "      <td>0.17</td>\n",
              "    </tr>\n",
              "  </tbody>\n",
              "</table>\n",
              "<p>16598 rows × 10 columns</p>\n",
              "</div>"
            ],
            "text/plain": [
              "                                                 Name  ... Tot_Sales\n",
              "0                        Candace Kane's Candy Factory  ...      0.04\n",
              "1                                      The Munchables  ...      0.18\n",
              "2      Otome wa Oanesama Boku ni Koi Shiteru Portable  ...      0.02\n",
              "3                    Deal or No Deal: Special Edition  ...      0.04\n",
              "4           Ben 10 Ultimate Alien: Cosmic Destruction  ...      0.25\n",
              "...                                               ...  ...       ...\n",
              "16593                         Ice Age 2: The Meltdown  ...      0.20\n",
              "16594                     Rainbow Islands: Revolution  ...      0.01\n",
              "16595                                        NBA 2K16  ...      0.79\n",
              "16596                     Toukiden: The Age of Demons  ...      0.38\n",
              "16597                        The King of Fighters '95  ...      0.17\n",
              "\n",
              "[16598 rows x 10 columns]"
            ]
          },
          "metadata": {},
          "execution_count": 13
        }
      ]
    },
    {
      "cell_type": "markdown",
      "source": [
        "### 1_2 Year_data Handling.Ver1\n",
        "\n",
        "- Tot_Sales가 평균 이상인 데이터는 분석에 영향을 미칠것이라 예상\n",
        " - Tot_Sales가 평균미만이며, Year가 null값인 경우 drop\n",
        "\n"
      ],
      "metadata": {
        "id": "W7nEhupUHzbm"
      }
    },
    {
      "cell_type": "code",
      "source": [
        "print(df.loc[(df.Tot_Sales < df.Tot_Sales.mean()) & (df.Year.isnull())].shape[0]) #Tot_Sales가 평균미만이며, Year가 null값인 경우\n",
        "print(df.loc[(df.Tot_Sales >= df.Tot_Sales.mean()) & (df.Year.isnull())].shape[0]) #Tot_Sales가 평균이상이며, Year가 null값인 경우"
      ],
      "metadata": {
        "colab": {
          "base_uri": "https://localhost:8080/"
        },
        "id": "PjoET1XvFMW9",
        "outputId": "ea650ca4-d4de-4da6-9a2d-4eacdc914b31"
      },
      "execution_count": null,
      "outputs": [
        {
          "output_type": "stream",
          "name": "stdout",
          "text": [
            "221\n",
            "50\n"
          ]
        }
      ]
    },
    {
      "cell_type": "code",
      "source": [
        "df2 = df.loc[((df.Tot_Sales >= df.Tot_Sales.mean()) & (df.Year.isnull())) | (df.Year.notnull())]\n",
        "df = df2\n",
        "df.shape # 16598개의 열에서 전체 판매량이 평균미만이며 Year가 null인 221개의 열이 제외됨을 확인 / 현재 열 : 16377"
      ],
      "metadata": {
        "colab": {
          "base_uri": "https://localhost:8080/"
        },
        "id": "2eTGVgM6G7cI",
        "outputId": "e2e4234b-f815-4b9d-9ebf-67502df9441b"
      },
      "execution_count": null,
      "outputs": [
        {
          "output_type": "execute_result",
          "data": {
            "text/plain": [
              "(16377, 10)"
            ]
          },
          "metadata": {},
          "execution_count": 15
        }
      ]
    },
    {
      "cell_type": "markdown",
      "source": [
        "### 1_3 Genre_data Handling.Ver1\n",
        "\n",
        "- Tot_Sales가 평균 이상인 데이터는 분석에 영향을 미칠것이라 예상\n",
        " - Tot_Sales가 평균미만이며, Genre가 null값인 경우 drop"
      ],
      "metadata": {
        "id": "dOKkVxuEEMPn"
      }
    },
    {
      "cell_type": "code",
      "source": [
        "print(df.loc[(df.Tot_Sales < df.Tot_Sales.mean()) & (df.Genre.isnull())].shape[0]) #Tot_Sales가 평균미만이며, Genre가 null값인 경우\n",
        "print(df.loc[(df.Tot_Sales >= df.Tot_Sales.mean()) & (df.Genre.isnull())].shape[0]) #Tot_Sales가 평균이상이며, Genre가 null값인 경우"
      ],
      "metadata": {
        "id": "qqQ5ftn4NBYD",
        "colab": {
          "base_uri": "https://localhost:8080/"
        },
        "outputId": "1411978d-957a-4949-f61b-d27672d34e85"
      },
      "execution_count": null,
      "outputs": [
        {
          "output_type": "stream",
          "name": "stdout",
          "text": [
            "33\n",
            "17\n"
          ]
        }
      ]
    },
    {
      "cell_type": "code",
      "source": [
        "df = df.loc[((df.Tot_Sales >= df.Tot_Sales.mean()) & (df.Genre.isnull())) | (df.Genre.notnull())]\n",
        "df.shape # 16377개의 열에서 전체 판매량이 평균미만이며 Genre가 null인 33개의 열이 제외됨을 확인 / 현재 열 : 16344"
      ],
      "metadata": {
        "id": "eOSFSbymNBSy",
        "colab": {
          "base_uri": "https://localhost:8080/"
        },
        "outputId": "a4d5f7a9-d07d-464a-fbcc-444a67134873"
      },
      "execution_count": null,
      "outputs": [
        {
          "output_type": "execute_result",
          "data": {
            "text/plain": [
              "(16344, 10)"
            ]
          },
          "metadata": {},
          "execution_count": 17
        }
      ]
    },
    {
      "cell_type": "markdown",
      "source": [
        "### 1_4 Publisher_data Handling.Ver1\n",
        "\n",
        "- Tot_Sales가 평균 이상인 데이터는 판별에 영향을 미칠것이라 예상\n",
        " - Tot_Sales가 평균미만이며, Publisher가 null값인 경우 drop"
      ],
      "metadata": {
        "id": "oUJ3R_bYGvl8"
      }
    },
    {
      "cell_type": "code",
      "source": [
        "print(df.loc[(df.Tot_Sales < df.Tot_Sales.mean()) & (df.Publisher.isnull())].shape[0]) #Tot_Sales가 평균미만이며, Publisher가 null값인 경우\n",
        "print(df.loc[(df.Tot_Sales >= df.Tot_Sales.mean()) & (df.Publisher.isnull())].shape[0]) #Tot_Sales가 평균이상이며, Publisher가 null값인 경우"
      ],
      "metadata": {
        "id": "z4UwE5gzNBbD",
        "colab": {
          "base_uri": "https://localhost:8080/"
        },
        "outputId": "a8a5d3f9-2cb7-4d66-c29d-b735859bb266"
      },
      "execution_count": null,
      "outputs": [
        {
          "output_type": "stream",
          "name": "stdout",
          "text": [
            "32\n",
            "6\n"
          ]
        }
      ]
    },
    {
      "cell_type": "code",
      "source": [
        "df = df.loc[((df.Tot_Sales >= df.Tot_Sales.mean()) & (df.Publisher.isnull())) | (df.Publisher.notnull())]\n",
        "df.shape # 16344개의 열에서 전체 판매량이 평균미만이며 Publisher가 null인 32개의 열이 제외됨을 확인 / 현재 열 : 16312"
      ],
      "metadata": {
        "id": "gdOFdmDJNBdf",
        "colab": {
          "base_uri": "https://localhost:8080/"
        },
        "outputId": "8833502f-ef9f-4f64-b171-206104604c75"
      },
      "execution_count": null,
      "outputs": [
        {
          "output_type": "execute_result",
          "data": {
            "text/plain": [
              "(16312, 10)"
            ]
          },
          "metadata": {},
          "execution_count": 19
        }
      ]
    },
    {
      "cell_type": "code",
      "source": [
        "# 확인작업(Tot_Sales가 평균보다 작으면서 Publisher, Genre, Year가 null인값)\n",
        "df.loc[((df.Tot_Sales <= df.Tot_Sales.mean()) & (df.Publisher.isnull())) | \\\n",
        "       ((df.Tot_Sales <= df.Tot_Sales.mean()) & (df.Genre.isnull())) | \\\n",
        "       ((df.Tot_Sales <= df.Tot_Sales.mean()) & (df.Year.isnull()))] # 없음"
      ],
      "metadata": {
        "colab": {
          "base_uri": "https://localhost:8080/",
          "height": 50
        },
        "id": "Z5tQ5J8JIYvD",
        "outputId": "95920c6f-bbb8-4e33-d4f8-ba375e07d7ae"
      },
      "execution_count": null,
      "outputs": [
        {
          "output_type": "execute_result",
          "data": {
            "text/html": [
              "<div>\n",
              "<style scoped>\n",
              "    .dataframe tbody tr th:only-of-type {\n",
              "        vertical-align: middle;\n",
              "    }\n",
              "\n",
              "    .dataframe tbody tr th {\n",
              "        vertical-align: top;\n",
              "    }\n",
              "\n",
              "    .dataframe thead th {\n",
              "        text-align: right;\n",
              "    }\n",
              "</style>\n",
              "<table border=\"1\" class=\"dataframe\">\n",
              "  <thead>\n",
              "    <tr style=\"text-align: right;\">\n",
              "      <th></th>\n",
              "      <th>Name</th>\n",
              "      <th>Platform</th>\n",
              "      <th>Year</th>\n",
              "      <th>Genre</th>\n",
              "      <th>Publisher</th>\n",
              "      <th>NA_Sales</th>\n",
              "      <th>EU_Sales</th>\n",
              "      <th>JP_Sales</th>\n",
              "      <th>Other_Sales</th>\n",
              "      <th>Tot_Sales</th>\n",
              "    </tr>\n",
              "  </thead>\n",
              "  <tbody>\n",
              "  </tbody>\n",
              "</table>\n",
              "</div>"
            ],
            "text/plain": [
              "Empty DataFrame\n",
              "Columns: [Name, Platform, Year, Genre, Publisher, NA_Sales, EU_Sales, JP_Sales, Other_Sales, Tot_Sales]\n",
              "Index: []"
            ]
          },
          "metadata": {},
          "execution_count": 20
        }
      ]
    },
    {
      "cell_type": "markdown",
      "source": [
        "### 1_5 Year_data Handling.Ver2\n",
        "\n",
        "- Tot_Sales가 평균 이상인 데이터 모두 포함하였기에 잔여 결측치 제거\n",
        "\n",
        " - 판매량이 평균 이상일 경우 분석결과에 영향을 끼칠 가능성이 있을 수 있기에,\n",
        " 남은 null값을 search하여 대입"
      ],
      "metadata": {
        "id": "sPgn2JxzJH3l"
      }
    },
    {
      "cell_type": "code",
      "source": [
        "#@title\n",
        "df.loc[df.Year.isnull()].Name"
      ],
      "metadata": {
        "id": "8fdqCI5LJbY3",
        "colab": {
          "base_uri": "https://localhost:8080/"
        },
        "cellView": "form",
        "outputId": "c267e098-0d70-4fbb-d55b-ad754bf2ef23"
      },
      "execution_count": null,
      "outputs": [
        {
          "output_type": "execute_result",
          "data": {
            "text/plain": [
              "31                                               Rock Band\n",
              "1041                         Metal Gear Solid 2: Substance\n",
              "2056                                    The Golden Compass\n",
              "2130                                        Call of Duty 3\n",
              "2142                                         Madden NFL 06\n",
              "2492                                       Madden NFL 2002\n",
              "3031                                  Donkey Kong Land III\n",
              "3291     The Chronicles of Narnia: The Lion, The Witch ...\n",
              "3347                            LEGO Batman: The Videogame\n",
              "3562                            wwe Smackdown vs. Raw 2006\n",
              "3942                           Legacy of Kain: Soul Reaver\n",
              "4165                                          Namco Museum\n",
              "4181                                             Rock Band\n",
              "4196                                Test Drive Unlimited 2\n",
              "4255                              Shaun White Snowboarding\n",
              "4488               The Lord of the Rings: War in the North\n",
              "5144                                              Yakuza 4\n",
              "5309                          LEGO Harry Potter: Years 5-7\n",
              "5674                             Hitman 2: Silent Assassin\n",
              "5720                                             Adventure\n",
              "6118                                      Wheel of Fortune\n",
              "6949                                       Madden NFL 2004\n",
              "7682                                    MLB SlugFest 20-03\n",
              "8529           LEGO Indiana Jones: The Original Adventures\n",
              "9240                          LEGO Harry Potter: Years 5-7\n",
              "9698                                 Def Jam: Fight for NY\n",
              "9958                            LEGO Batman: The Videogame\n",
              "10084                           Advance Wars: Days of Ruin\n",
              "10301                                        Madden NFL 07\n",
              "10563                         LEGO Harry Potter: Years 5-7\n",
              "10776                                            Rock Band\n",
              "10965                                     FIFA Soccer 2004\n",
              "11309                                       Triple Play 99\n",
              "11316                                       Air-Sea Battle\n",
              "11665              The Lord of the Rings: War in the North\n",
              "12390                                  WarioWare: Twisted!\n",
              "12787                              NASCAR: Dirt to Daytona\n",
              "12858                                            Rock Band\n",
              "12986                              Call of Duty: Black Ops\n",
              "13327             Frogger's Adventures: Temple of the Frog\n",
              "13357                               Test Drive Unlimited 2\n",
              "13752                                  NASCAR Thunder 2003\n",
              "14049                                     Monster Hunter 2\n",
              "14580                                        Rhythm Heaven\n",
              "14585                                         Suikoden III\n",
              "14765                                               Combat\n",
              "14968                       PES 2009: Pro Evolution Soccer\n",
              "15317                         LEGO Harry Potter: Years 5-7\n",
              "16275                                       Space Invaders\n",
              "16278                                        Madden NFL 11\n",
              "Name: Name, dtype: object"
            ]
          },
          "metadata": {},
          "execution_count": 21
        }
      ]
    },
    {
      "cell_type": "code",
      "source": [
        "#@title\n",
        "df.loc[((df.Name == 'Rock Band') & (df.Year.isnull())),'Year'] = 2007\n",
        "df.loc[((df.Name == 'Metal Gear Solid 2: Substance')& (df.Year.isnull())),'Year'] = 2002\n",
        "df.loc[((df.Name == 'The Golden Compass')& (df.Year.isnull())),'Year'] = 2007\n",
        "df.loc[((df.Name == 'Call of Duty 3')& (df.Year.isnull())),'Year'] = 2006\n",
        "df.loc[((df.Name == 'Madden NFL 06')& (df.Year.isnull())),'Year'] = 2005\n",
        "df.loc[((df.Name == 'Madden NFL 2002')& (df.Year.isnull())),'Year'] = 2001\n",
        "df.loc[((df.Name == 'Donkey Kong Land III')& (df.Year.isnull())),'Year'] = 1997\n",
        "df.loc[((df.Name == 'The Chronicles of Narnia: The Lion, The Witch and The Wardrobe')& \\\n",
        "        (df.Year.isnull())),'Year'] = 2005\n",
        "df.loc[((df.Name == 'LEGO Batman: The Videogame')& (df.Year.isnull())),'Year'] = 2008\n",
        "df.loc[((df.Name == 'wwe Smackdown vs. Raw 2006')& (df.Year.isnull())),'Year'] = 2005\n",
        "\n",
        "df.loc[((df.Name == 'Legacy of Kain: Soul Reaver')& (df.Year.isnull())),'Year'] = 1999\n",
        "df.loc[((df.Name == 'Namco Museum')& (df.Year.isnull())),'Year'] = 1999\n",
        "df.loc[((df.Name == 'Rock Band')& (df.Year.isnull())),'Year'] = 2007\n",
        "df.loc[((df.Name == 'Test Drive Unlimited 2')& (df.Year.isnull())),'Year'] = 2011\n",
        "df.loc[((df.Name == 'Shaun White Snowboarding')& (df.Year.isnull())),'Year'] = 2008\n",
        "df.loc[((df.Name == 'The Lord of the Rings: War in the North')& \\\n",
        "        (df.Year.isnull())),'Year'] = 2011\n",
        "df.loc[((df.Name == 'Yakuza 4')& (df.Year.isnull())),'Year'] = 2010\n",
        "df.loc[((df.Name == 'LEGO Harry Potter: Years 5-7')& (df.Year.isnull())),'Year'] = 2011\n",
        "df.loc[((df.Name == 'Hitman 2: Silent Assassin')& (df.Year.isnull())),'Year'] = 2002\n",
        "df.loc[((df.Name == 'Adventure')& (df.Year.isnull())),'Year'] = 1980\n",
        "\n",
        "df.loc[((df.Name == 'Wheel of Fortune')& (df.Year.isnull())),'Year'] = 2003\n",
        "df.loc[((df.Name == 'Madden NFL 2004')& (df.Year.isnull())),'Year'] = 2003\n",
        "df.loc[((df.Name == 'MLB SlugFest 20-03')& (df.Year.isnull())),'Year'] = 2002\n",
        "df.loc[((df.Name == 'LEGO Indiana Jones: The Original Adventures')& \\\n",
        "        (df.Year.isnull())),'Year'] = 2008\n",
        "df.loc[((df.Name == 'LEGO Harry Potter: Years 5-7')& (df.Year.isnull())),'Year'] = 2011\n",
        "df.loc[((df.Name == 'Def Jam: Fight for NY')& (df.Year.isnull())),'Year'] = 2004\n",
        "df.loc[((df.Name == 'LEGO Batman: The Videogame')& (df.Year.isnull())),'Year'] = 2008\n",
        "df.loc[((df.Name == 'Advance Wars: Days of Ruin')& (df.Year.isnull())),'Year'] = 2008\n",
        "df.loc[((df.Name == 'Madden NFL 07')& (df.Year.isnull())),'Year'] = 2006\n",
        "df.loc[((df.Name == 'LEGO Harry Potter: Years 5-7')& (df.Year.isnull())),'Year'] = 2011\n",
        "\n",
        "df.loc[((df.Name == 'Rock Band')& (df.Year.isnull())),'Year'] = 2007\n",
        "df.loc[((df.Name == 'FIFA Soccer 2004')& (df.Year.isnull())),'Year'] = 2003\n",
        "df.loc[((df.Name == 'Triple Play 99')& (df.Year.isnull())),'Year'] = 1998\n",
        "df.loc[((df.Name == 'Air-Sea Battle')& (df.Year.isnull())),'Year'] = 1977\n",
        "df.loc[((df.Name == 'The Lord of the Rings: War in the North')& \\\n",
        "        (df.Year.isnull())),'Year'] = 2011\n",
        "df.loc[((df.Name == 'WarioWare: Twisted!')& (df.Year.isnull())),'Year'] = 2004\n",
        "df.loc[((df.Name == 'NASCAR: Dirt to Daytona')& (df.Year.isnull())),'Year'] = 2002\n",
        "df.loc[((df.Name == 'Rock Band')& (df.Year.isnull())),'Year'] = 2007\n",
        "df.loc[((df.Name == 'Call of Duty: Black Ops')& (df.Year.isnull())),'Year'] = 2010\n",
        "df.loc[((df.Name == \"Frogger's Adventures: Temple of the Frog\")& \\\n",
        "        (df.Year.isnull())),'Year'] = 2001\n",
        "\n",
        "df.loc[((df.Name == 'Test Drive Unlimited 2')& (df.Year.isnull())),'Year'] = 2011\n",
        "df.loc[((df.Name == 'NASCAR Thunder 2003')& (df.Year.isnull())),'Year'] = 2002\n",
        "df.loc[((df.Name == 'Monster Hunter 2')& (df.Year.isnull())),'Year'] = 2006\n",
        "df.loc[((df.Name == 'Rhythm Heaven')& (df.Year.isnull())),'Year'] = 2011\n",
        "df.loc[((df.Name == 'Suikoden III')& (df.Year.isnull())),'Year'] = 2002\n",
        "df.loc[((df.Name == 'Combat')& (df.Year.isnull())),'Year'] = 1977\n",
        "df.loc[((df.Name == 'PES 2009: Pro Evolution Soccer')& (df.Year.isnull())),'Year'] = 2008\n",
        "df.loc[((df.Name == 'LEGO Harry Potter: Years 5-7')& (df.Year.isnull())),'Year'] = 2011\n",
        "df.loc[((df.Name == 'Space Invaders')& (df.Year.isnull())),'Year'] = 1978\n",
        "df.loc[((df.Name == 'Madden NFL 11')& (df.Year.isnull())),'Year'] = 2010"
      ],
      "metadata": {
        "id": "F3KElwU5JbhH"
      },
      "execution_count": null,
      "outputs": []
    },
    {
      "cell_type": "code",
      "source": [
        "df.loc[df.Year.isnull()] # Year 행에 null값이 존재하지 않음을 확인"
      ],
      "metadata": {
        "id": "Gbv0Wc4bJbkR",
        "colab": {
          "base_uri": "https://localhost:8080/",
          "height": 50
        },
        "outputId": "0f32e97f-7570-46c1-fb04-14e47efb01aa"
      },
      "execution_count": null,
      "outputs": [
        {
          "output_type": "execute_result",
          "data": {
            "text/html": [
              "<div>\n",
              "<style scoped>\n",
              "    .dataframe tbody tr th:only-of-type {\n",
              "        vertical-align: middle;\n",
              "    }\n",
              "\n",
              "    .dataframe tbody tr th {\n",
              "        vertical-align: top;\n",
              "    }\n",
              "\n",
              "    .dataframe thead th {\n",
              "        text-align: right;\n",
              "    }\n",
              "</style>\n",
              "<table border=\"1\" class=\"dataframe\">\n",
              "  <thead>\n",
              "    <tr style=\"text-align: right;\">\n",
              "      <th></th>\n",
              "      <th>Name</th>\n",
              "      <th>Platform</th>\n",
              "      <th>Year</th>\n",
              "      <th>Genre</th>\n",
              "      <th>Publisher</th>\n",
              "      <th>NA_Sales</th>\n",
              "      <th>EU_Sales</th>\n",
              "      <th>JP_Sales</th>\n",
              "      <th>Other_Sales</th>\n",
              "      <th>Tot_Sales</th>\n",
              "    </tr>\n",
              "  </thead>\n",
              "  <tbody>\n",
              "  </tbody>\n",
              "</table>\n",
              "</div>"
            ],
            "text/plain": [
              "Empty DataFrame\n",
              "Columns: [Name, Platform, Year, Genre, Publisher, NA_Sales, EU_Sales, JP_Sales, Other_Sales, Tot_Sales]\n",
              "Index: []"
            ]
          },
          "metadata": {},
          "execution_count": 23
        }
      ]
    },
    {
      "cell_type": "markdown",
      "source": [
        "### 1_6 Year_data HandlingVer.3\n",
        "\n",
        "- Year column의 ***결측치***를 제거 하였기에, ***이상치*** 제어\n",
        "\n",
        " - Year값이 100의자리 이하로 표현된 Outlier값(3.0, 90.0과 같은 값)을 1977~2021 사이의 값으로 정상화"
      ],
      "metadata": {
        "id": "sqIbGwdn1m-J"
      }
    },
    {
      "cell_type": "code",
      "source": [
        "df.loc[(df.Year>1900)].Year.min()  # Year이  제대로 입력된 경우 1977년이 가장 작은값임을 확인"
      ],
      "metadata": {
        "id": "TO0DrGCqJbnj",
        "colab": {
          "base_uri": "https://localhost:8080/"
        },
        "outputId": "ebd6bed7-691e-4394-ad0f-08117f0c7841"
      },
      "execution_count": null,
      "outputs": [
        {
          "output_type": "execute_result",
          "data": {
            "text/plain": [
              "1977.0"
            ]
          },
          "metadata": {},
          "execution_count": 24
        }
      ]
    },
    {
      "cell_type": "code",
      "source": [
        "def fix_year(year):\n",
        "  year = int(float(year))\n",
        "  if year >= 1977: return year # 1977~2021\n",
        "  if year < 22: year += 2000 # 00 또는 0 형태의 2000 ~ 2021\n",
        "  else: year += 1900 # 00형태의 1977~1999\n",
        "  return year"
      ],
      "metadata": {
        "id": "db-56BVcj3Kf"
      },
      "execution_count": null,
      "outputs": []
    },
    {
      "cell_type": "code",
      "source": [
        "df.Year = df.Year.apply(fix_year)"
      ],
      "metadata": {
        "id": "kmwaKR6ykozi"
      },
      "execution_count": null,
      "outputs": []
    },
    {
      "cell_type": "code",
      "source": [
        "df.loc[df.Year<1977] # 1977보다 작은 Year값이 없음을 확인"
      ],
      "metadata": {
        "colab": {
          "base_uri": "https://localhost:8080/",
          "height": 50
        },
        "id": "WPVfvisaqKkS",
        "outputId": "9f5d0f70-e870-4763-f76e-99bfea81c171"
      },
      "execution_count": null,
      "outputs": [
        {
          "output_type": "execute_result",
          "data": {
            "text/html": [
              "<div>\n",
              "<style scoped>\n",
              "    .dataframe tbody tr th:only-of-type {\n",
              "        vertical-align: middle;\n",
              "    }\n",
              "\n",
              "    .dataframe tbody tr th {\n",
              "        vertical-align: top;\n",
              "    }\n",
              "\n",
              "    .dataframe thead th {\n",
              "        text-align: right;\n",
              "    }\n",
              "</style>\n",
              "<table border=\"1\" class=\"dataframe\">\n",
              "  <thead>\n",
              "    <tr style=\"text-align: right;\">\n",
              "      <th></th>\n",
              "      <th>Name</th>\n",
              "      <th>Platform</th>\n",
              "      <th>Year</th>\n",
              "      <th>Genre</th>\n",
              "      <th>Publisher</th>\n",
              "      <th>NA_Sales</th>\n",
              "      <th>EU_Sales</th>\n",
              "      <th>JP_Sales</th>\n",
              "      <th>Other_Sales</th>\n",
              "      <th>Tot_Sales</th>\n",
              "    </tr>\n",
              "  </thead>\n",
              "  <tbody>\n",
              "  </tbody>\n",
              "</table>\n",
              "</div>"
            ],
            "text/plain": [
              "Empty DataFrame\n",
              "Columns: [Name, Platform, Year, Genre, Publisher, NA_Sales, EU_Sales, JP_Sales, Other_Sales, Tot_Sales]\n",
              "Index: []"
            ]
          },
          "metadata": {},
          "execution_count": 27
        }
      ]
    },
    {
      "cell_type": "markdown",
      "source": [
        "### 1_7 Genre_data Handling.Ver2\n",
        "\n",
        "- Tot_Sales가 평균 이상인 데이터 모두 포함하였기에 잔여 결측치 제거\n",
        "\n",
        " - 판매량이 평균 이상일 경우 분석결과에 영향을 끼칠 가능성이 있을 수 있기에,\n",
        "Publisher의 남은 null값은 search하여 대입"
      ],
      "metadata": {
        "id": "8-dTYDIzHO2x"
      }
    },
    {
      "cell_type": "code",
      "source": [
        "df.loc[df.Publisher.isnull()]"
      ],
      "metadata": {
        "id": "A5zKA-4aH24r",
        "colab": {
          "base_uri": "https://localhost:8080/",
          "height": 237
        },
        "outputId": "4db642e8-dfa3-4f6a-d262-766359acfae6"
      },
      "execution_count": null,
      "outputs": [
        {
          "output_type": "execute_result",
          "data": {
            "text/html": [
              "<div>\n",
              "<style scoped>\n",
              "    .dataframe tbody tr th:only-of-type {\n",
              "        vertical-align: middle;\n",
              "    }\n",
              "\n",
              "    .dataframe tbody tr th {\n",
              "        vertical-align: top;\n",
              "    }\n",
              "\n",
              "    .dataframe thead th {\n",
              "        text-align: right;\n",
              "    }\n",
              "</style>\n",
              "<table border=\"1\" class=\"dataframe\">\n",
              "  <thead>\n",
              "    <tr style=\"text-align: right;\">\n",
              "      <th></th>\n",
              "      <th>Name</th>\n",
              "      <th>Platform</th>\n",
              "      <th>Year</th>\n",
              "      <th>Genre</th>\n",
              "      <th>Publisher</th>\n",
              "      <th>NA_Sales</th>\n",
              "      <th>EU_Sales</th>\n",
              "      <th>JP_Sales</th>\n",
              "      <th>Other_Sales</th>\n",
              "      <th>Tot_Sales</th>\n",
              "    </tr>\n",
              "  </thead>\n",
              "  <tbody>\n",
              "    <tr>\n",
              "      <th>1961</th>\n",
              "      <td>Nicktoons Collection: Game Boy Advance Video V...</td>\n",
              "      <td>GBA</td>\n",
              "      <td>2004</td>\n",
              "      <td>Misc</td>\n",
              "      <td>NaN</td>\n",
              "      <td>0.46</td>\n",
              "      <td>0.17</td>\n",
              "      <td>0.0</td>\n",
              "      <td>0.01</td>\n",
              "      <td>0.64</td>\n",
              "    </tr>\n",
              "    <tr>\n",
              "      <th>3562</th>\n",
              "      <td>wwe Smackdown vs. Raw 2006</td>\n",
              "      <td>PS2</td>\n",
              "      <td>2005</td>\n",
              "      <td>Fighting</td>\n",
              "      <td>NaN</td>\n",
              "      <td>1.57</td>\n",
              "      <td>1.02</td>\n",
              "      <td>0.0</td>\n",
              "      <td>0.41</td>\n",
              "      <td>3.00</td>\n",
              "    </tr>\n",
              "    <tr>\n",
              "      <th>8236</th>\n",
              "      <td>Bentley's Hackpack</td>\n",
              "      <td>GBA</td>\n",
              "      <td>2005</td>\n",
              "      <td>Misc</td>\n",
              "      <td>NaN</td>\n",
              "      <td>0.67</td>\n",
              "      <td>0.25</td>\n",
              "      <td>0.0</td>\n",
              "      <td>0.02</td>\n",
              "      <td>0.94</td>\n",
              "    </tr>\n",
              "    <tr>\n",
              "      <th>11309</th>\n",
              "      <td>Triple Play 99</td>\n",
              "      <td>PS</td>\n",
              "      <td>1998</td>\n",
              "      <td>Sports</td>\n",
              "      <td>NaN</td>\n",
              "      <td>0.81</td>\n",
              "      <td>0.55</td>\n",
              "      <td>0.0</td>\n",
              "      <td>0.10</td>\n",
              "      <td>1.46</td>\n",
              "    </tr>\n",
              "    <tr>\n",
              "      <th>12900</th>\n",
              "      <td>SpongeBob SquarePants: Game Boy Advance Video ...</td>\n",
              "      <td>GBA</td>\n",
              "      <td>2004</td>\n",
              "      <td>Misc</td>\n",
              "      <td>NaN</td>\n",
              "      <td>0.46</td>\n",
              "      <td>0.17</td>\n",
              "      <td>0.0</td>\n",
              "      <td>0.01</td>\n",
              "      <td>0.64</td>\n",
              "    </tr>\n",
              "    <tr>\n",
              "      <th>15368</th>\n",
              "      <td>Shrek / Shrek 2 2-in-1 Gameboy Advance Video</td>\n",
              "      <td>GBA</td>\n",
              "      <td>2007</td>\n",
              "      <td>Misc</td>\n",
              "      <td>NaN</td>\n",
              "      <td>0.87</td>\n",
              "      <td>0.32</td>\n",
              "      <td>0.0</td>\n",
              "      <td>0.02</td>\n",
              "      <td>1.21</td>\n",
              "    </tr>\n",
              "  </tbody>\n",
              "</table>\n",
              "</div>"
            ],
            "text/plain": [
              "                                                    Name  ... Tot_Sales\n",
              "1961   Nicktoons Collection: Game Boy Advance Video V...  ...      0.64\n",
              "3562                          wwe Smackdown vs. Raw 2006  ...      3.00\n",
              "8236                                  Bentley's Hackpack  ...      0.94\n",
              "11309                                     Triple Play 99  ...      1.46\n",
              "12900  SpongeBob SquarePants: Game Boy Advance Video ...  ...      0.64\n",
              "15368       Shrek / Shrek 2 2-in-1 Gameboy Advance Video  ...      1.21\n",
              "\n",
              "[6 rows x 10 columns]"
            ]
          },
          "metadata": {},
          "execution_count": 28
        }
      ]
    },
    {
      "cell_type": "code",
      "source": [
        "df.loc[((df.Name == 'Nicktoons Collection: Game Boy Advance Video Volume 1') & \\\n",
        "        (df.Publisher.isnull())),'Publisher'] = 'Majesco Entertainment'\n",
        "df.loc[((df.Name == 'wwe Smackdown vs. Raw 2006') & (df.Publisher.isnull())),'Publisher'] = 'THQ'\n",
        "df.loc[((df.Name == \"Bentley's Hackpack\") & (df.Publisher.isnull())),'Publisher'] = 'Sony Computer Entertainment'\n",
        "df.loc[((df.Name == 'Triple Play 99') & (df.Publisher.isnull())),'Publisher'] = 'Electronic Arts'\n",
        "df.loc[((df.Name == 'SpongeBob SquarePants: Game Boy Advance Video Volume 1') \\\n",
        "        & (df.Publisher.isnull())),'Publisher'] = 'Majesco Entertainment'\n",
        "df.loc[((df.Name == 'Shrek / Shrek 2 2-in-1 Gameboy Advance Video') & (df.Publisher.isnull())),'Publisher'] = 'Activision'"
      ],
      "metadata": {
        "id": "VmgJoKIvH4z1"
      },
      "execution_count": null,
      "outputs": []
    },
    {
      "cell_type": "code",
      "source": [
        "df.loc[df.Publisher.isnull()] # Publisher 행에 null값이 존재하지 않음을 확인"
      ],
      "metadata": {
        "id": "sfZviwM_H43G",
        "colab": {
          "base_uri": "https://localhost:8080/",
          "height": 50
        },
        "outputId": "0e0a1159-18e8-47cf-b29c-c5eb008c997c"
      },
      "execution_count": null,
      "outputs": [
        {
          "output_type": "execute_result",
          "data": {
            "text/html": [
              "<div>\n",
              "<style scoped>\n",
              "    .dataframe tbody tr th:only-of-type {\n",
              "        vertical-align: middle;\n",
              "    }\n",
              "\n",
              "    .dataframe tbody tr th {\n",
              "        vertical-align: top;\n",
              "    }\n",
              "\n",
              "    .dataframe thead th {\n",
              "        text-align: right;\n",
              "    }\n",
              "</style>\n",
              "<table border=\"1\" class=\"dataframe\">\n",
              "  <thead>\n",
              "    <tr style=\"text-align: right;\">\n",
              "      <th></th>\n",
              "      <th>Name</th>\n",
              "      <th>Platform</th>\n",
              "      <th>Year</th>\n",
              "      <th>Genre</th>\n",
              "      <th>Publisher</th>\n",
              "      <th>NA_Sales</th>\n",
              "      <th>EU_Sales</th>\n",
              "      <th>JP_Sales</th>\n",
              "      <th>Other_Sales</th>\n",
              "      <th>Tot_Sales</th>\n",
              "    </tr>\n",
              "  </thead>\n",
              "  <tbody>\n",
              "  </tbody>\n",
              "</table>\n",
              "</div>"
            ],
            "text/plain": [
              "Empty DataFrame\n",
              "Columns: [Name, Platform, Year, Genre, Publisher, NA_Sales, EU_Sales, JP_Sales, Other_Sales, Tot_Sales]\n",
              "Index: []"
            ]
          },
          "metadata": {},
          "execution_count": 30
        }
      ]
    },
    {
      "cell_type": "markdown",
      "source": [
        "### 1_8 Genre_data Handling.Ver2\n",
        "\n",
        "- Tot_Sales가 평균 이상인 데이터 모두 포함하였기에 잔여 결측치 제거\n",
        "\n",
        " - 판매량이 평균 이상일 경우 분석결과에 영향을 끼칠 가능성이 있을 수 있기에,\n",
        " Genre의 남은 null값은 search하여 대입"
      ],
      "metadata": {
        "id": "AnQtTwAaAJEY"
      }
    },
    {
      "cell_type": "code",
      "source": [
        "df.loc[df.Genre.isnull()]"
      ],
      "metadata": {
        "id": "ULnCNCoIH450",
        "colab": {
          "base_uri": "https://localhost:8080/",
          "height": 582
        },
        "outputId": "bcf743ba-68d2-488e-8c41-258be259c707"
      },
      "execution_count": null,
      "outputs": [
        {
          "output_type": "execute_result",
          "data": {
            "text/html": [
              "<div>\n",
              "<style scoped>\n",
              "    .dataframe tbody tr th:only-of-type {\n",
              "        vertical-align: middle;\n",
              "    }\n",
              "\n",
              "    .dataframe tbody tr th {\n",
              "        vertical-align: top;\n",
              "    }\n",
              "\n",
              "    .dataframe thead th {\n",
              "        text-align: right;\n",
              "    }\n",
              "</style>\n",
              "<table border=\"1\" class=\"dataframe\">\n",
              "  <thead>\n",
              "    <tr style=\"text-align: right;\">\n",
              "      <th></th>\n",
              "      <th>Name</th>\n",
              "      <th>Platform</th>\n",
              "      <th>Year</th>\n",
              "      <th>Genre</th>\n",
              "      <th>Publisher</th>\n",
              "      <th>NA_Sales</th>\n",
              "      <th>EU_Sales</th>\n",
              "      <th>JP_Sales</th>\n",
              "      <th>Other_Sales</th>\n",
              "      <th>Tot_Sales</th>\n",
              "    </tr>\n",
              "  </thead>\n",
              "  <tbody>\n",
              "    <tr>\n",
              "      <th>50</th>\n",
              "      <td>Ape Escape: On the Loose</td>\n",
              "      <td>PSP</td>\n",
              "      <td>2005</td>\n",
              "      <td>NaN</td>\n",
              "      <td>Sony Computer Entertainment</td>\n",
              "      <td>0.52</td>\n",
              "      <td>0.01</td>\n",
              "      <td>0.12</td>\n",
              "      <td>0.05</td>\n",
              "      <td>0.70</td>\n",
              "    </tr>\n",
              "    <tr>\n",
              "      <th>1328</th>\n",
              "      <td>NFL Street</td>\n",
              "      <td>XB</td>\n",
              "      <td>2004</td>\n",
              "      <td>NaN</td>\n",
              "      <td>Electronic Arts</td>\n",
              "      <td>0.49</td>\n",
              "      <td>0.15</td>\n",
              "      <td>0.00</td>\n",
              "      <td>0.02</td>\n",
              "      <td>0.66</td>\n",
              "    </tr>\n",
              "    <tr>\n",
              "      <th>1582</th>\n",
              "      <td>SingStar Singalong With Disney</td>\n",
              "      <td>PS2</td>\n",
              "      <td>2008</td>\n",
              "      <td>NaN</td>\n",
              "      <td>Sony Computer Entertainment</td>\n",
              "      <td>0.00</td>\n",
              "      <td>0.04</td>\n",
              "      <td>0.00</td>\n",
              "      <td>0.57</td>\n",
              "      <td>0.61</td>\n",
              "    </tr>\n",
              "    <tr>\n",
              "      <th>1971</th>\n",
              "      <td>Pokemon X/Pokemon Y</td>\n",
              "      <td>3DS</td>\n",
              "      <td>2013</td>\n",
              "      <td>NaN</td>\n",
              "      <td>Nintendo</td>\n",
              "      <td>5.17</td>\n",
              "      <td>4.05</td>\n",
              "      <td>4.34</td>\n",
              "      <td>0.79</td>\n",
              "      <td>14.35</td>\n",
              "    </tr>\n",
              "    <tr>\n",
              "      <th>3932</th>\n",
              "      <td>MVP Baseball 2004</td>\n",
              "      <td>PS2</td>\n",
              "      <td>2004</td>\n",
              "      <td>NaN</td>\n",
              "      <td>Electronic Arts</td>\n",
              "      <td>1.10</td>\n",
              "      <td>0.06</td>\n",
              "      <td>0.00</td>\n",
              "      <td>0.18</td>\n",
              "      <td>1.34</td>\n",
              "    </tr>\n",
              "    <tr>\n",
              "      <th>4148</th>\n",
              "      <td>Grand Theft Auto IV</td>\n",
              "      <td>PC</td>\n",
              "      <td>2008</td>\n",
              "      <td>NaN</td>\n",
              "      <td>Take-Two Interactive</td>\n",
              "      <td>0.01</td>\n",
              "      <td>0.79</td>\n",
              "      <td>0.00</td>\n",
              "      <td>0.08</td>\n",
              "      <td>0.88</td>\n",
              "    </tr>\n",
              "    <tr>\n",
              "      <th>4598</th>\n",
              "      <td>Wii Party</td>\n",
              "      <td>Wii</td>\n",
              "      <td>2010</td>\n",
              "      <td>NaN</td>\n",
              "      <td>Nintendo</td>\n",
              "      <td>1.79</td>\n",
              "      <td>3.53</td>\n",
              "      <td>2.49</td>\n",
              "      <td>0.68</td>\n",
              "      <td>8.49</td>\n",
              "    </tr>\n",
              "    <tr>\n",
              "      <th>5668</th>\n",
              "      <td>Chrono Cross</td>\n",
              "      <td>PS</td>\n",
              "      <td>1999</td>\n",
              "      <td>NaN</td>\n",
              "      <td>SquareSoft</td>\n",
              "      <td>0.62</td>\n",
              "      <td>0.42</td>\n",
              "      <td>0.69</td>\n",
              "      <td>0.12</td>\n",
              "      <td>1.85</td>\n",
              "    </tr>\n",
              "    <tr>\n",
              "      <th>9488</th>\n",
              "      <td>Final Fantasy XII</td>\n",
              "      <td>PS2</td>\n",
              "      <td>2006</td>\n",
              "      <td>NaN</td>\n",
              "      <td>Square Enix</td>\n",
              "      <td>1.88</td>\n",
              "      <td>0.00</td>\n",
              "      <td>2.33</td>\n",
              "      <td>1.74</td>\n",
              "      <td>5.95</td>\n",
              "    </tr>\n",
              "    <tr>\n",
              "      <th>11063</th>\n",
              "      <td>Yakuza 3</td>\n",
              "      <td>PS3</td>\n",
              "      <td>2009</td>\n",
              "      <td>NaN</td>\n",
              "      <td>Sega</td>\n",
              "      <td>0.21</td>\n",
              "      <td>0.21</td>\n",
              "      <td>0.62</td>\n",
              "      <td>0.08</td>\n",
              "      <td>1.12</td>\n",
              "    </tr>\n",
              "    <tr>\n",
              "      <th>11496</th>\n",
              "      <td>F-Zero X</td>\n",
              "      <td>N64</td>\n",
              "      <td>1998</td>\n",
              "      <td>NaN</td>\n",
              "      <td>Nintendo</td>\n",
              "      <td>0.45</td>\n",
              "      <td>0.33</td>\n",
              "      <td>0.29</td>\n",
              "      <td>0.03</td>\n",
              "      <td>1.10</td>\n",
              "    </tr>\n",
              "    <tr>\n",
              "      <th>12331</th>\n",
              "      <td>Onimusha: Warlords</td>\n",
              "      <td>PS2</td>\n",
              "      <td>2001</td>\n",
              "      <td>NaN</td>\n",
              "      <td>Virgin Interactive</td>\n",
              "      <td>0.99</td>\n",
              "      <td>0.48</td>\n",
              "      <td>1.09</td>\n",
              "      <td>0.14</td>\n",
              "      <td>2.70</td>\n",
              "    </tr>\n",
              "    <tr>\n",
              "      <th>14930</th>\n",
              "      <td>Skylanders Giants</td>\n",
              "      <td>PS3</td>\n",
              "      <td>2012</td>\n",
              "      <td>NaN</td>\n",
              "      <td>Activision</td>\n",
              "      <td>0.35</td>\n",
              "      <td>0.52</td>\n",
              "      <td>0.00</td>\n",
              "      <td>0.22</td>\n",
              "      <td>1.09</td>\n",
              "    </tr>\n",
              "    <tr>\n",
              "      <th>15211</th>\n",
              "      <td>James Bond 007: Nightfire</td>\n",
              "      <td>XB</td>\n",
              "      <td>2002</td>\n",
              "      <td>NaN</td>\n",
              "      <td>Electronic Arts</td>\n",
              "      <td>0.58</td>\n",
              "      <td>0.22</td>\n",
              "      <td>0.00</td>\n",
              "      <td>0.03</td>\n",
              "      <td>0.83</td>\n",
              "    </tr>\n",
              "    <tr>\n",
              "      <th>15426</th>\n",
              "      <td>WarioWare, Inc.: Mega Party Game$</td>\n",
              "      <td>GC</td>\n",
              "      <td>2003</td>\n",
              "      <td>NaN</td>\n",
              "      <td>Nintendo</td>\n",
              "      <td>0.20</td>\n",
              "      <td>0.05</td>\n",
              "      <td>0.44</td>\n",
              "      <td>0.02</td>\n",
              "      <td>0.71</td>\n",
              "    </tr>\n",
              "    <tr>\n",
              "      <th>15526</th>\n",
              "      <td>Bloodborne</td>\n",
              "      <td>PS4</td>\n",
              "      <td>2015</td>\n",
              "      <td>NaN</td>\n",
              "      <td>Sony Computer Entertainment</td>\n",
              "      <td>1.00</td>\n",
              "      <td>0.76</td>\n",
              "      <td>0.26</td>\n",
              "      <td>0.36</td>\n",
              "      <td>2.38</td>\n",
              "    </tr>\n",
              "    <tr>\n",
              "      <th>16587</th>\n",
              "      <td>Need for Speed Underground 2</td>\n",
              "      <td>XB</td>\n",
              "      <td>2004</td>\n",
              "      <td>NaN</td>\n",
              "      <td>Electronic Arts</td>\n",
              "      <td>1.38</td>\n",
              "      <td>0.80</td>\n",
              "      <td>0.00</td>\n",
              "      <td>0.10</td>\n",
              "      <td>2.28</td>\n",
              "    </tr>\n",
              "  </tbody>\n",
              "</table>\n",
              "</div>"
            ],
            "text/plain": [
              "                                    Name Platform  ...  Other_Sales Tot_Sales\n",
              "50              Ape Escape: On the Loose      PSP  ...         0.05      0.70\n",
              "1328                          NFL Street       XB  ...         0.02      0.66\n",
              "1582      SingStar Singalong With Disney      PS2  ...         0.57      0.61\n",
              "1971                 Pokemon X/Pokemon Y      3DS  ...         0.79     14.35\n",
              "3932                   MVP Baseball 2004      PS2  ...         0.18      1.34\n",
              "4148                 Grand Theft Auto IV       PC  ...         0.08      0.88\n",
              "4598                           Wii Party      Wii  ...         0.68      8.49\n",
              "5668                        Chrono Cross       PS  ...         0.12      1.85\n",
              "9488                   Final Fantasy XII      PS2  ...         1.74      5.95\n",
              "11063                           Yakuza 3      PS3  ...         0.08      1.12\n",
              "11496                           F-Zero X      N64  ...         0.03      1.10\n",
              "12331                 Onimusha: Warlords      PS2  ...         0.14      2.70\n",
              "14930                  Skylanders Giants      PS3  ...         0.22      1.09\n",
              "15211          James Bond 007: Nightfire       XB  ...         0.03      0.83\n",
              "15426  WarioWare, Inc.: Mega Party Game$       GC  ...         0.02      0.71\n",
              "15526                         Bloodborne      PS4  ...         0.36      2.38\n",
              "16587       Need for Speed Underground 2       XB  ...         0.10      2.28\n",
              "\n",
              "[17 rows x 10 columns]"
            ]
          },
          "metadata": {},
          "execution_count": 31
        }
      ]
    },
    {
      "cell_type": "code",
      "source": [
        "df.Genre.unique()"
      ],
      "metadata": {
        "colab": {
          "base_uri": "https://localhost:8080/"
        },
        "id": "SRgHVHMiFnk_",
        "outputId": "cec28a3d-4dbe-478c-8f9a-1bee1ebab9df"
      },
      "execution_count": null,
      "outputs": [
        {
          "output_type": "execute_result",
          "data": {
            "text/plain": [
              "array(['Action', 'Adventure', 'Misc', 'Platform', 'Sports', 'Simulation',\n",
              "       'Racing', 'Role-Playing', 'Puzzle', 'Strategy', 'Fighting',\n",
              "       'Shooter', nan], dtype=object)"
            ]
          },
          "metadata": {},
          "execution_count": 32
        }
      ]
    },
    {
      "cell_type": "code",
      "source": [
        "#@title\n",
        "df.loc[((df.Name == 'Ape Escape: On the Loose') & (df.Genre.isnull())),'Genre'] = 'Action'\n",
        "df.loc[((df.Name == 'NFL Street') & (df.Genre.isnull())),'Genre'] = 'Sports'\n",
        "df.loc[((df.Name == 'SingStar Singalong With Disney') & (df.Genre.isnull())),'Genre'] = 'Misc'\n",
        "df.loc[((df.Name == 'Pokemon X/Pokemon Y') & (df.Genre.isnull())),'Genre'] = 'Role-Playing'\n",
        "df.loc[((df.Name == 'MVP Baseball 2004') & (df.Genre.isnull())),'Genre'] = 'Sports'\n",
        "df.loc[((df.Name == 'Grand Theft Auto IV') & (df.Genre.isnull())),'Genre'] = 'Action'\n",
        "df.loc[((df.Name == 'Wii Party') & (df.Genre.isnull())),'Genre'] = 'Misc'\n",
        "df.loc[((df.Name == 'Chrono Cross') & (df.Genre.isnull())),'Genre'] = 'Role-Playing'\n",
        "df.loc[((df.Name == 'Final Fantasy XII') & (df.Genre.isnull())),'Genre'] = 'Role-Playing'\n",
        "df.loc[((df.Name == 'Yakuza 3') & (df.Genre.isnull())),'Genre'] = 'Adventure'\n",
        "\n",
        "df.loc[((df.Name == 'F-Zero X') & (df.Genre.isnull())),'Genre'] = 'Racing'\n",
        "df.loc[((df.Name == 'Onimusha: Warlords') & (df.Genre.isnull())),'Genre'] = 'Action'\n",
        "df.loc[((df.Name == 'Skylanders Giants') & (df.Genre.isnull())),'Genre'] = 'Action'\n",
        "df.loc[((df.Name == 'James Bond 007: Nightfire') & (df.Genre.isnull())),'Genre'] = 'Shooter'\n",
        "df.loc[((df.Name == 'WarioWare, Inc.: Mega Party Game$') & (df.Genre.isnull())),'Genre'] = 'Misc'\n",
        "df.loc[((df.Name == 'Bloodborne') & (df.Genre.isnull())),'Genre'] = 'Action'\n",
        "df.loc[((df.Name == 'Need for Speed Underground 2') & (df.Genre.isnull())),'Genre'] = 'Racing'"
      ],
      "metadata": {
        "id": "ul_G2X7pDrsI"
      },
      "execution_count": null,
      "outputs": []
    },
    {
      "cell_type": "code",
      "source": [
        "df.loc[df.Genre.isnull()] # Genre 행에 null값이 존재하지 않음을 확인"
      ],
      "metadata": {
        "colab": {
          "base_uri": "https://localhost:8080/",
          "height": 50
        },
        "id": "1AzTaHOHI-O5",
        "outputId": "911f9074-4cc2-436a-ea7f-bdc46493bf5e"
      },
      "execution_count": null,
      "outputs": [
        {
          "output_type": "execute_result",
          "data": {
            "text/html": [
              "<div>\n",
              "<style scoped>\n",
              "    .dataframe tbody tr th:only-of-type {\n",
              "        vertical-align: middle;\n",
              "    }\n",
              "\n",
              "    .dataframe tbody tr th {\n",
              "        vertical-align: top;\n",
              "    }\n",
              "\n",
              "    .dataframe thead th {\n",
              "        text-align: right;\n",
              "    }\n",
              "</style>\n",
              "<table border=\"1\" class=\"dataframe\">\n",
              "  <thead>\n",
              "    <tr style=\"text-align: right;\">\n",
              "      <th></th>\n",
              "      <th>Name</th>\n",
              "      <th>Platform</th>\n",
              "      <th>Year</th>\n",
              "      <th>Genre</th>\n",
              "      <th>Publisher</th>\n",
              "      <th>NA_Sales</th>\n",
              "      <th>EU_Sales</th>\n",
              "      <th>JP_Sales</th>\n",
              "      <th>Other_Sales</th>\n",
              "      <th>Tot_Sales</th>\n",
              "    </tr>\n",
              "  </thead>\n",
              "  <tbody>\n",
              "  </tbody>\n",
              "</table>\n",
              "</div>"
            ],
            "text/plain": [
              "Empty DataFrame\n",
              "Columns: [Name, Platform, Year, Genre, Publisher, NA_Sales, EU_Sales, JP_Sales, Other_Sales, Tot_Sales]\n",
              "Index: []"
            ]
          },
          "metadata": {},
          "execution_count": 34
        }
      ]
    },
    {
      "cell_type": "code",
      "source": [
        "df = df.reset_index(drop=True)\n",
        "df.isnull().sum()"
      ],
      "metadata": {
        "colab": {
          "base_uri": "https://localhost:8080/"
        },
        "id": "AeLIXJaRKRFF",
        "outputId": "f9e3343b-84f6-41f1-e245-c08d523fb61d"
      },
      "execution_count": null,
      "outputs": [
        {
          "output_type": "execute_result",
          "data": {
            "text/plain": [
              "Name           0\n",
              "Platform       0\n",
              "Year           0\n",
              "Genre          0\n",
              "Publisher      0\n",
              "NA_Sales       0\n",
              "EU_Sales       0\n",
              "JP_Sales       0\n",
              "Other_Sales    0\n",
              "Tot_Sales      0\n",
              "dtype: int64"
            ]
          },
          "metadata": {},
          "execution_count": 35
        }
      ]
    },
    {
      "cell_type": "code",
      "source": [
        "df.isnull().sum()"
      ],
      "metadata": {
        "colab": {
          "base_uri": "https://localhost:8080/"
        },
        "id": "kpJZnRAlwICB",
        "outputId": "197d0dd0-afa3-411e-ddab-d1c20bfc32a9"
      },
      "execution_count": null,
      "outputs": [
        {
          "output_type": "execute_result",
          "data": {
            "text/plain": [
              "Name           0\n",
              "Platform       0\n",
              "Year           0\n",
              "Genre          0\n",
              "Publisher      0\n",
              "NA_Sales       0\n",
              "EU_Sales       0\n",
              "JP_Sales       0\n",
              "Other_Sales    0\n",
              "Tot_Sales      0\n",
              "dtype: int64"
            ]
          },
          "metadata": {},
          "execution_count": 36
        }
      ]
    },
    {
      "cell_type": "markdown",
      "source": [
        "## 2. Data Analysis\n",
        "\n",
        "- 지역에 따라서 선호하는 게임 장르가 다를까\n",
        "- 연도별 게임의 트렌드가 있을까\n",
        "- 출고량이 높은 게임에 대한 분석\n",
        "\n",
        "정제한 데이터를 위 주제에 걸맞게 핸들링하여 의미있는 자료를 출력합니다."
      ],
      "metadata": {
        "id": "LVgAq7BiJZzw"
      }
    },
    {
      "cell_type": "code",
      "source": [
        "df1 = df"
      ],
      "metadata": {
        "id": "V7Yrx0AzKOHs"
      },
      "execution_count": null,
      "outputs": []
    },
    {
      "cell_type": "markdown",
      "source": [
        "## 2_1 Data Analysis 1\n",
        "- 지역에 따라서 선호하는 게임 장르가 다를까"
      ],
      "metadata": {
        "id": "JJv68xK2U706"
      }
    },
    {
      "cell_type": "code",
      "source": [
        "gen_NA = df1[['Genre','NA_Sales']].groupby('Genre').sum()\n",
        "gen_EU = df1[['Genre','EU_Sales']].groupby('Genre').sum()\n",
        "gen_JP = df1[['Genre','JP_Sales']].groupby('Genre').sum()\n",
        "gen_Ot = df1[['Genre','Other_Sales']].groupby('Genre').sum()"
      ],
      "metadata": {
        "id": "pUycWOGDNGkN"
      },
      "execution_count": null,
      "outputs": []
    },
    {
      "cell_type": "code",
      "source": [
        "# 지역별 데이터 분류\n",
        "gen_NA = gen_NA.sort_values(by=\"NA_Sales\", ascending = False).reset_index()\n",
        "gen_EU = gen_EU.sort_values(by=\"EU_Sales\", ascending = False).reset_index()\n",
        "gen_JP = gen_JP.sort_values(by=\"JP_Sales\", ascending = False).reset_index()\n",
        "gen_Ot = gen_Ot.sort_values(by=\"Other_Sales\", ascending = False).reset_index()"
      ],
      "metadata": {
        "id": "QCZu1zIVhEpm"
      },
      "execution_count": null,
      "outputs": []
    },
    {
      "cell_type": "code",
      "source": [
        "# barplot으로 지역별 장르 선호도 대략적 파악\n",
        "sns.set(style='darkgrid')\n",
        "fig, ax = plt.subplots(2,2 , figsize=(20, 10))\n",
        "fig.suptitle('Preferred Game Genre by Continent', fontsize=25)\n",
        "fig.subplots_adjust(left=0.125, bottom=0., right=0.9, top=0.9, wspace=0.2, hspace=0.4)\n",
        "ax1 = plt.subplot(2, 2, 1)\n",
        "ax2 = plt.subplot(2, 2, 2)\n",
        "ax3 = plt.subplot(2, 2, 3)\n",
        "ax4 = plt.subplot(2, 2, 4)\n",
        "\n",
        "\n",
        "NA = sns.barplot(data=gen_NA, x = 'Genre', y = 'NA_Sales', palette = \"Blues_r\", ax=ax1)\n",
        "NA.set_xticklabels(NA.get_xticklabels(), rotation=45,\n",
        "                  horizontalalignment='right',\n",
        "                  fontweight='light',\n",
        "                  fontsize='x-small'\n",
        "                 )\n",
        "NA.set_ylim(bottom = 0, top = 900)\n",
        "NA.set_title('North_America')\n",
        "NA.set(xlabel=None)\n",
        "NA.set_ylabel(\"Sales (Milion)\", fontsize = 13)\n",
        "\n",
        "EU = sns.barplot(data=gen_EU, x = 'Genre', y = 'EU_Sales', palette = \"Greens_r\", ax=ax2)\n",
        "EU.set_xticklabels(EU.get_xticklabels(), rotation=45,\n",
        "                  horizontalalignment='right',\n",
        "                  fontweight='light',\n",
        "                  fontsize='x-small'\n",
        "                 )\n",
        "EU.set_ylim(bottom = 0, top = 900)\n",
        "EU.set_title('Europe')\n",
        "EU.set(xlabel=None)\n",
        "EU.set_ylabel(\"Sales (Milion)\", fontsize = 13)\n",
        "\n",
        "JP = sns.barplot(data=gen_JP, x = 'Genre', y = 'JP_Sales', palette = \"OrRd_r\", ax=ax3)\n",
        "JP.set_xticklabels(JP.get_xticklabels(), rotation=45,\n",
        "                  horizontalalignment='right',\n",
        "                  fontweight='light',\n",
        "                  fontsize='x-small'\n",
        "                 )\n",
        "JP.set_ylim(bottom = 0, top = 900)\n",
        "JP.set_title('Japan')\n",
        "JP.set(xlabel=None)\n",
        "JP.set_ylabel(\"Sales (Milion)\", fontsize = 13)\n",
        "\n",
        "\n",
        "OT = sns.barplot(data=gen_Ot, x = 'Genre', y = 'Other_Sales', palette = \"Greys_r\", ax=ax4)\n",
        "OT.set_xticklabels(OT.get_xticklabels(), rotation=45,\n",
        "                  horizontalalignment='right',\n",
        "                  fontweight='light',\n",
        "                  fontsize='x-small'\n",
        "                 )\n",
        "OT.set_ylim(bottom = 0, top = 900)\n",
        "OT.set_title('Others')\n",
        "OT.set(xlabel=None)\n",
        "OT.set_ylabel(\"Sales (Milion)\", fontsize = 13)\n",
        "\n",
        "plt.show();"
      ],
      "metadata": {
        "colab": {
          "base_uri": "https://localhost:8080/",
          "height": 788
        },
        "id": "12uFu6qUZWE7",
        "outputId": "f547974c-8b43-48c4-c1e6-41e34f075cb2"
      },
      "execution_count": null,
      "outputs": [
        {
          "output_type": "display_data",
          "data": {
            "image/png": "[encoded data removed]",
            "text/plain": [
              "<Figure size 1440x720 with 4 Axes>"
            ]
          },
          "metadata": {}
        }
      ]
    },
    {
      "cell_type": "markdown",
      "source": [
        "## 2_2 Data Analysis 2\n",
        "- 연도별 게임의 트렌드가 있을까"
      ],
      "metadata": {
        "id": "0iSMOBLJVGMZ"
      }
    },
    {
      "cell_type": "code",
      "source": [
        "plt.figure(figsize = (20, 10))\n",
        "plt.plot(df1.groupby('Year')['Tot_Sales'].sum()) #연도별 비디오 게임의 총 출고량 시각화\n",
        "plt.title('Sales volume change by year', size = 25)\n",
        "\n",
        "plt.xticks(np.arange(1975,2021,5))\n",
        "plt.show();"
      ],
      "metadata": {
        "colab": {
          "base_uri": "https://localhost:8080/",
          "height": 618
        },
        "id": "PRx2Ne0SYVgs",
        "outputId": "4909f8d6-4120-4045-8671-9bfad3bc77a0"
      },
      "execution_count": null,
      "outputs": [
        {
          "output_type": "display_data",
          "data": {
            "image/png": "[encoded data removed]",
            "text/plain": [
              "<Figure size 1440x720 with 1 Axes>"
            ]
          },
          "metadata": {}
        }
      ]
    },
    {
      "cell_type": "code",
      "source": [
        "gen = list(df1['Genre'].unique())\n",
        "gen.sort()\n",
        "fig, ax = plt.subplots(3,4, figsize=(20,10))\n",
        "fig.subplots_adjust(left=0.125, bottom=0., right=0.9, top=0.9, wspace=0.2, hspace=0.4)\n",
        "\n",
        "for i, gen in enumerate(gen):\n",
        "    if i <= 3:\n",
        "        r = 0\n",
        "    elif i > 3 and i <= 7:\n",
        "        r = 1\n",
        "    elif i > 7 and i <= 11:\n",
        "        r = 2\n",
        "\n",
        "    c = i % 4\n",
        "\n",
        "    df = df1[df1['Genre'] == gen]\n",
        "    df2 = df.groupby('Year')['Tot_Sales'].sum()\n",
        "\n",
        "    ax[r,c].plot(df2)\n",
        "    ax[r,c].set_title(gen)\n",
        "    ax[r,c].set_ylim(0,150)\n",
        "    ax[r,c].set_xlim(1975,2020)\n",
        "\n",
        "plt.show();"
      ],
      "metadata": {
        "colab": {
          "base_uri": "https://localhost:8080/",
          "height": 714
        },
        "id": "tqG-b64tYVkn",
        "outputId": "6bdc8fca-6ca2-4387-9c64-10899e9b903d"
      },
      "execution_count": null,
      "outputs": [
        {
          "output_type": "display_data",
          "data": {
            "image/png": "[encoded data removed]",
            "text/plain": [
              "<Figure size 1440x720 with 12 Axes>"
            ]
          },
          "metadata": {}
        }
      ]
    },
    {
      "cell_type": "code",
      "source": [
        "from statsmodels.formula.api import ols\n",
        "from statsmodels.stats.anova import anova_lm"
      ],
      "metadata": {
        "id": "_prBiPJcNE1O",
        "colab": {
          "base_uri": "https://localhost:8080/"
        },
        "outputId": "f9e3b62a-a6e3-42df-c2c5-4e6e881901be"
      },
      "execution_count": null,
      "outputs": [
        {
          "output_type": "stream",
          "name": "stderr",
          "text": [
            "/usr/local/lib/python3.7/dist-packages/statsmodels/tools/_testing.py:19: FutureWarning: pandas.util.testing is deprecated. Use the functions in the public API at pandas.testing instead.\n",
            "  import pandas.util.testing as tm\n"
          ]
        }
      ]
    },
    {
      "cell_type": "code",
      "source": [
        "model = ols('Tot_Sales ~ C(Year) * C(Genre)', df1).fit()"
      ],
      "metadata": {
        "id": "3-7fzH2aBp4c"
      },
      "execution_count": null,
      "outputs": []
    },
    {
      "cell_type": "code",
      "source": [
        "anova_lm(model)"
      ],
      "metadata": {
        "colab": {
          "base_uri": "https://localhost:8080/",
          "height": 174
        },
        "id": "RdHj2lLRN7G-",
        "outputId": "0330e82b-72af-4194-93a8-8e3abbb5173b"
      },
      "execution_count": null,
      "outputs": [
        {
          "output_type": "execute_result",
          "data": {
            "text/html": [
              "<div>\n",
              "<style scoped>\n",
              "    .dataframe tbody tr th:only-of-type {\n",
              "        vertical-align: middle;\n",
              "    }\n",
              "\n",
              "    .dataframe tbody tr th {\n",
              "        vertical-align: top;\n",
              "    }\n",
              "\n",
              "    .dataframe thead th {\n",
              "        text-align: right;\n",
              "    }\n",
              "</style>\n",
              "<table border=\"1\" class=\"dataframe\">\n",
              "  <thead>\n",
              "    <tr style=\"text-align: right;\">\n",
              "      <th></th>\n",
              "      <th>df</th>\n",
              "      <th>sum_sq</th>\n",
              "      <th>mean_sq</th>\n",
              "      <th>F</th>\n",
              "      <th>PR(&gt;F)</th>\n",
              "    </tr>\n",
              "  </thead>\n",
              "  <tbody>\n",
              "    <tr>\n",
              "      <th>C(Year)</th>\n",
              "      <td>40.0</td>\n",
              "      <td>1015.757848</td>\n",
              "      <td>25.393946</td>\n",
              "      <td>10.877579</td>\n",
              "      <td>8.760690e-67</td>\n",
              "    </tr>\n",
              "    <tr>\n",
              "      <th>C(Genre)</th>\n",
              "      <td>11.0</td>\n",
              "      <td>426.312347</td>\n",
              "      <td>38.755668</td>\n",
              "      <td>16.601116</td>\n",
              "      <td>4.736105e-33</td>\n",
              "    </tr>\n",
              "    <tr>\n",
              "      <th>C(Year):C(Genre)</th>\n",
              "      <td>440.0</td>\n",
              "      <td>1531.021427</td>\n",
              "      <td>3.479594</td>\n",
              "      <td>1.490495</td>\n",
              "      <td>2.058426e-10</td>\n",
              "    </tr>\n",
              "    <tr>\n",
              "      <th>Residual</th>\n",
              "      <td>15920.0</td>\n",
              "      <td>37165.586839</td>\n",
              "      <td>2.334522</td>\n",
              "      <td>NaN</td>\n",
              "      <td>NaN</td>\n",
              "    </tr>\n",
              "  </tbody>\n",
              "</table>\n",
              "</div>"
            ],
            "text/plain": [
              "                       df        sum_sq    mean_sq          F        PR(>F)\n",
              "C(Year)              40.0   1015.757848  25.393946  10.877579  8.760690e-67\n",
              "C(Genre)             11.0    426.312347  38.755668  16.601116  4.736105e-33\n",
              "C(Year):C(Genre)    440.0   1531.021427   3.479594   1.490495  2.058426e-10\n",
              "Residual          15920.0  37165.586839   2.334522        NaN           NaN"
            ]
          },
          "metadata": {},
          "execution_count": 45
        }
      ]
    },
    {
      "cell_type": "markdown",
      "source": [
        "## 2_3 Data Analysis 3\n",
        "- 출고량이 높은 게임에 대한 분석"
      ],
      "metadata": {
        "id": "eNGUdnenXEbF"
      }
    },
    {
      "cell_type": "code",
      "source": [
        "big_game = df1\n",
        "big_game.index = big_game['Name']\n",
        "\n",
        "print('모든 시기의 출고량 상위 5종목 : \\n', big_game['Tot_Sales'].nlargest(5))\n",
        "print('\\n최근 출고량 상위 5종목 : \\n', big_game[big_game['Year'] >= 2015]['Tot_Sales'].nlargest(5))"
      ],
      "metadata": {
        "colab": {
          "base_uri": "https://localhost:8080/"
        },
        "id": "RuZfqFe_ZglJ",
        "outputId": "1b14201b-2744-4cc3-e23c-177e1028f5a3"
      },
      "execution_count": null,
      "outputs": [
        {
          "output_type": "stream",
          "name": "stdout",
          "text": [
            "모든 시기의 출고량 상위 5종목 : \n",
            " Name\n",
            "Wii Sports                  82.74\n",
            "Super Mario Bros.           40.24\n",
            "Mario Kart Wii              35.83\n",
            "Wii Sports Resort           33.00\n",
            "Pokemon Red/Pokemon Blue    31.38\n",
            "Name: Tot_Sales, dtype: float64\n",
            "\n",
            "최근 출고량 상위 5종목 : \n",
            " Name\n",
            "Call of Duty: Black Ops 3       14.24\n",
            "FIFA 16                          8.49\n",
            "Star Wars Battlefront (2015)     7.67\n",
            "Call of Duty: Black Ops 3        7.29\n",
            "Fallout 4                        6.96\n",
            "Name: Tot_Sales, dtype: float64\n"
          ]
        }
      ]
    },
    {
      "cell_type": "code",
      "source": [
        "sns.set(style='darkgrid')\n",
        "fig, ax = plt.subplots(1,2 , figsize=(20, 10))\n",
        "fig.suptitle('Releases and Sales by genre', fontsize=25)\n",
        "fig.subplots_adjust(left=0.125, bottom=0., right=0.9, top=0.9, wspace=0.2, hspace=0.4)\n",
        "ax1 = plt.subplot(1, 2, 1)\n",
        "ax2 = plt.subplot(1, 2, 2)\n",
        "\n",
        "resent_best = big_game[big_game['Year'] >= 2015].iloc[:100]['Genre'].value_counts()\n",
        "resent_best = pd.DataFrame(resent_best)\n",
        "resent_best.reset_index(inplace = True)\n",
        "resent_best.columns = ['Genre', 'count']\n",
        "\n",
        "rb = sns.barplot(data=resent_best, x = 'Genre', y = 'count', palette = \"Blues_r\", ax = ax1)\n",
        "rb.set_xticklabels(rb.get_xticklabels(), rotation=45,\n",
        "                  horizontalalignment='right',\n",
        "                  fontweight='light',\n",
        "                  fontsize='x-small'\n",
        "                 );\n",
        "rb.set_title('Releases by genre')\n",
        "rb.set(xlabel=None)\n",
        "rb.set_ylabel(\"Count\", fontsize = 13);\n",
        "\n",
        "\n",
        "tot_trend = pd.DataFrame(big_game[big_game['Year']>=2015].groupby('Genre')['Tot_Sales'].mean())\n",
        "tot_trend.reset_index(inplace = True)\n",
        "tot_trend.sort_values('Tot_Sales', ascending = False, inplace = True)\n",
        "\n",
        "plt.figure(figsize = (10,6))\n",
        "\n",
        "tt = sns.barplot(data=tot_trend, x = 'Genre', y = 'Tot_Sales', palette = \"OrRd_r\", ax = ax2)\n",
        "tt.set_xticklabels(tt.get_xticklabels(), rotation=45,\n",
        "                  horizontalalignment='right',\n",
        "                  fontweight='light',\n",
        "                  fontsize='x-small'\n",
        "                 );\n",
        "\n",
        "tt.set_title('Sales by genre')\n",
        "tt.set(xlabel=None)\n",
        "tt.set_ylabel(\"Sales (Milion)\", fontsize = 13);"
      ],
      "metadata": {
        "colab": {
          "base_uri": "https://localhost:8080/",
          "height": 807
        },
        "id": "usTSJWnOjVUd",
        "outputId": "1176afc1-41c7-449d-99d1-6e82838190aa"
      },
      "execution_count": null,
      "outputs": [
        {
          "output_type": "display_data",
          "data": {
            "image/png": "[encoded data removed]",
            "text/plain": [
              "<Figure size 1440x720 with 2 Axes>"
            ]
          },
          "metadata": {}
        },
        {
          "output_type": "display_data",
          "data": {
            "text/plain": [
              "<Figure size 720x432 with 0 Axes>"
            ]
          },
          "metadata": {}
        }
      ]
    },
    {
      "cell_type": "code",
      "source": [
        "#!pip install --upgrade scipy\n",
        "#표본이 많으므로, 정규성을 만족한다고 가정\n",
        "\n",
        "#등분산 test\n",
        "\n",
        "# 귀무가설 H0 = 두 그룹은 등분산성이 있다.(분산의 차이가 없다.)\n",
        "# 대립가설 H1 = 두 그룹은 등분산성이 없다.(분산의 차이가 있다.)\n",
        "print(stats.levene(group1, group2).pvalue)\n",
        "# 0.05보다 작으므로 두 그룹은 등분산이 아니다."
      ],
      "metadata": {
        "colab": {
          "base_uri": "https://localhost:8080/"
        },
        "id": "iDg_JTlpkvLB",
        "outputId": "8a0a3a36-745e-4f2f-f351-ba650541fadb"
      },
      "execution_count": null,
      "outputs": [
        {
          "output_type": "stream",
          "name": "stdout",
          "text": [
            "0.016564337097518044\n"
          ]
        }
      ]
    },
    {
      "cell_type": "code",
      "source": [
        "#독립 t-test, 단측검정:\n",
        "p_value_t = stats.ttest_ind(group1, group2, equal_var = False, alternative = 'greater').pvalue\n",
        "print(p_value_t)\n",
        "#0.05보다 작으므로 두개 집단간 평균의 차이가 유의미하게 존재한다\n",
        "#그래프상으로 판매율이 높은 Shooter 장르가 통계적으로도 판매율이 높다."
      ],
      "metadata": {
        "colab": {
          "base_uri": "https://localhost:8080/"
        },
        "id": "dKQRP0b3d0Rf",
        "outputId": "6d34e338-f0d2-4992-ef33-5cfa21e3c199"
      },
      "execution_count": null,
      "outputs": [
        {
          "output_type": "stream",
          "name": "stdout",
          "text": [
            "0.010538355067203308\n"
          ]
        }
      ]
    },
    {
      "cell_type": "code",
      "source": [
        "#@title\n",
        "Platform_total_trend = pd.DataFrame(big_game[big_game['Year']>=2015].groupby('Platform')['Tot_Sales'].mean())\n",
        "Platform_total_trend.reset_index(inplace = True)\n",
        "Platform_total_trend.sort_values('Tot_Sales', ascending = False, inplace = True)\n",
        "\n",
        "plt.figure(figsize = (20,10))\n",
        "\n",
        "Pt = sns.barplot(data = Platform_total_trend, x = 'Platform', y = 'Tot_Sales', palette = \"OrRd_r\")\n",
        "Pt.set_xticklabels(Pt.get_xticklabels(), rotation=45,\n",
        "                  horizontalalignment='right',\n",
        "                  fontweight='light',\n",
        "                  fontsize='x-small'\n",
        "                 );"
      ],
      "metadata": {
        "id": "_64m6EJBlq3X",
        "colab": {
          "base_uri": "https://localhost:8080/",
          "height": 623
        },
        "outputId": "1f7d34c8-28ff-4fad-9d14-a08e1af10195"
      },
      "execution_count": null,
      "outputs": [
        {
          "output_type": "display_data",
          "data": {
            "image/png": "[encoded data removed]",
            "text/plain": [
              "<Figure size 1440x720 with 1 Axes>"
            ]
          },
          "metadata": {}
        }
      ]
    },
    {
      "cell_type": "code",
      "source": [
        "#PS4용 Shooter 게임이 얼마나 만들어지는가\n",
        "\n",
        "PS4 = big_game[big_game['Platform']=='PS4']\n",
        "\n",
        "PS4['Genre'].value_counts()"
      ],
      "metadata": {
        "id": "SUXGJMAElycd",
        "colab": {
          "base_uri": "https://localhost:8080/"
        },
        "outputId": "846c012c-d3e4-4984-ed8e-e84d43bde5e8"
      },
      "execution_count": null,
      "outputs": [
        {
          "output_type": "execute_result",
          "data": {
            "text/plain": [
              "Action          122\n",
              "Role-Playing     47\n",
              "Sports           43\n",
              "Shooter          34\n",
              "Adventure        19\n",
              "Racing           17\n",
              "Fighting         17\n",
              "Misc             15\n",
              "Platform         11\n",
              "Simulation        5\n",
              "Strategy          5\n",
              "Puzzle            1\n",
              "Name: Genre, dtype: int64"
            ]
          },
          "metadata": {},
          "execution_count": 53
        }
      ]
    },
    {
      "cell_type": "code",
      "source": [
        "#PS4용 Shooter게임이 잘 팔리는가\n",
        "PS4.groupby('Genre')['Tot_Sales'].sum().sort_values(ascending=False)"
      ],
      "metadata": {
        "id": "CcfejkyvlygJ",
        "colab": {
          "base_uri": "https://localhost:8080/"
        },
        "outputId": "d0719c5a-42f3-4716-fd79-258c97cb3901"
      },
      "execution_count": null,
      "outputs": [
        {
          "output_type": "execute_result",
          "data": {
            "text/plain": [
              "Genre\n",
              "Action          87.08\n",
              "Shooter         75.32\n",
              "Sports          50.10\n",
              "Role-Playing    25.78\n",
              "Racing          11.57\n",
              "Fighting         8.04\n",
              "Misc             7.37\n",
              "Platform         6.99\n",
              "Adventure        4.70\n",
              "Simulation       0.77\n",
              "Strategy         0.42\n",
              "Puzzle           0.02\n",
              "Name: Tot_Sales, dtype: float64"
            ]
          },
          "metadata": {},
          "execution_count": 54
        }
      ]
    },
    {
      "cell_type": "code",
      "source": [
        "# shooter Genre 판매량이 좋은 Platform\n",
        "shooter_platform = pd.DataFrame(big_game[big_game['Genre'] == 'Shooter'].groupby('Platform')['Tot_Sales'].sum().sort_values(ascending=False))\n",
        "shooter_platform.reset_index(inplace = True)\n",
        "\n",
        "plt.figure(figsize = (20,10))\n",
        "\n",
        "sp = sns.barplot(data = shooter_platform, x = 'Platform', y = 'Tot_Sales', palette = \"OrRd_r\")\n",
        "sp.set_xticklabels(sp.get_xticklabels(), rotation=45,\n",
        "                  horizontalalignment='right',\n",
        "                  fontweight='light',\n",
        "                  fontsize='x-small'\n",
        "                 );"
      ],
      "metadata": {
        "id": "11t7e0l0mCK8",
        "colab": {
          "base_uri": "https://localhost:8080/",
          "height": 623
        },
        "outputId": "28c54264-7f84-436d-9cfb-0b4d51332b81"
      },
      "execution_count": null,
      "outputs": [
        {
          "output_type": "display_data",
          "data": {
            "image/png": "[encoded data removed]",
            "text/plain": [
              "<Figure size 1440x720 with 1 Axes>"
            ]
          },
          "metadata": {}
        }
      ]
    }
  ]
}